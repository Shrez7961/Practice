{
  "nbformat": 4,
  "nbformat_minor": 0,
  "metadata": {
    "colab": {
      "name": " Assignment - NumPy Operations.ipynb",
      "provenance": [],
      "collapsed_sections": [],
      "include_colab_link": true
    },
    "kernelspec": {
      "name": "python3",
      "display_name": "Python 3"
    }
  },
  "cells": [
    {
      "cell_type": "markdown",
      "metadata": {
        "id": "view-in-github",
        "colab_type": "text"
      },
      "source": [
        "<a href=\"https://colab.research.google.com/github/Shrez7961/Practice/blob/main/Assignment_NumPy_Operations.ipynb\" target=\"_parent\"><img src=\"https://colab.research.google.com/assets/colab-badge.svg\" alt=\"Open In Colab\"/></a>"
      ]
    },
    {
      "cell_type": "markdown",
      "metadata": {
        "id": "MKXTc2Tas23T"
      },
      "source": [
        "# <u> Use only those concepts which have been taught till now </u>"
      ]
    },
    {
      "cell_type": "code",
      "metadata": {
        "id": "0V3Xtuh9siNn"
      },
      "source": [
        "import numpy as np"
      ],
      "execution_count": 1,
      "outputs": []
    },
    {
      "cell_type": "markdown",
      "metadata": {
        "id": "Ase3qjp9cJUC"
      },
      "source": [
        "# <u>**Problem 1**</u>\n",
        "\n",
        "### What is the average value of the first 5 rows of the third and fourth columns?\n",
        "\n"
      ]
    },
    {
      "cell_type": "code",
      "metadata": {
        "id": "xj0SaK7smcPu",
        "outputId": "cf2a1d12-ff67-47ae-a7e2-60a810d22278",
        "colab": {
          "base_uri": "https://localhost:8080/"
        }
      },
      "source": [
        "np.random.seed(21) # This guarantees the code will generate the same set of random numbers whenever executed\n",
        "random_integers = np.random.randint(1,high=500000, size=(20, 5))\n",
        "random_integers"
      ],
      "execution_count": 2,
      "outputs": [
        {
          "output_type": "execute_result",
          "data": {
            "text/plain": [
              "array([[ 80842, 333008, 202553, 140037,  81969],\n",
              "       [ 63857,  42105, 261540, 481981, 176739],\n",
              "       [489984, 326386, 110795, 394863,  25024],\n",
              "       [ 38317,  49982, 408830, 485118,  16119],\n",
              "       [407675, 231729, 265455, 109413, 103399],\n",
              "       [174677, 343356, 301717, 224120, 401101],\n",
              "       [140473, 254634, 112262,  25063, 108262],\n",
              "       [375059, 406983, 208947, 115641, 296685],\n",
              "       [444899, 129585, 171318, 313094, 425041],\n",
              "       [188411, 335140, 141681,  59641, 211420],\n",
              "       [287650,   8973, 477425, 382803, 465168],\n",
              "       [  3975,  32213, 160603, 275485, 388234],\n",
              "       [246225,  56174, 244097,   9350, 496966],\n",
              "       [225516, 273338,  73335, 283013, 212813],\n",
              "       [ 38175, 282399, 318413, 337639, 379802],\n",
              "       [198049, 101115, 419547, 260219, 325793],\n",
              "       [148593, 425024, 348570, 117968, 107007],\n",
              "       [ 52547, 180346, 178760, 305186, 262153],\n",
              "       [ 11835, 449971, 494184, 472031, 353049],\n",
              "       [476442,  35455, 191553, 384154,  29917]])"
            ]
          },
          "metadata": {},
          "execution_count": 2
        }
      ]
    },
    {
      "cell_type": "code",
      "metadata": {
        "id": "N1hhYCZw3V1c",
        "outputId": "a89166ef-0dac-4cfb-b4cd-ae6a709cc5a5",
        "colab": {
          "base_uri": "https://localhost:8080/"
        }
      },
      "source": [
        "# Your code here\n",
        "slice_array = random_integers[:5,3:]\n",
        "slice_array\n"
      ],
      "execution_count": 3,
      "outputs": [
        {
          "output_type": "execute_result",
          "data": {
            "text/plain": [
              "array([[140037,  81969],\n",
              "       [481981, 176739],\n",
              "       [394863,  25024],\n",
              "       [485118,  16119],\n",
              "       [109413, 103399]])"
            ]
          },
          "metadata": {},
          "execution_count": 3
        }
      ]
    },
    {
      "cell_type": "code",
      "source": [
        "#Average of individual list in slice\n",
        "for i in range(5):\n",
        "  avg =slice_array[i].sum()/slice_array[i].size\n",
        "  print(avg)\n"
      ],
      "metadata": {
        "id": "yl6BEmMOl29V",
        "outputId": "cbe5e3ba-af0c-4eea-d729-ea151460fdf4",
        "colab": {
          "base_uri": "https://localhost:8080/"
        }
      },
      "execution_count": 4,
      "outputs": [
        {
          "output_type": "stream",
          "name": "stdout",
          "text": [
            "111003.0\n",
            "329360.0\n",
            "209943.5\n",
            "250618.5\n",
            "106406.0\n"
          ]
        }
      ]
    },
    {
      "cell_type": "code",
      "source": [
        "#Average of total slice\n",
        "avrg=slice_array.sum()/slice_array.size\n",
        "avrg"
      ],
      "metadata": {
        "id": "INLtSd4DlVTB",
        "outputId": "46961843-b608-4170-b5a2-cacb23cfb06a",
        "colab": {
          "base_uri": "https://localhost:8080/"
        }
      },
      "execution_count": 5,
      "outputs": [
        {
          "output_type": "execute_result",
          "data": {
            "text/plain": [
              "201466.2"
            ]
          },
          "metadata": {},
          "execution_count": 5
        }
      ]
    },
    {
      "cell_type": "markdown",
      "metadata": {
        "id": "POAj5sBgd3gd"
      },
      "source": [
        "#<u>**Problem 2**</u>\n",
        "\n",
        "### In this problem, we are going to calculate distances between some pairs of points :\n",
        "\n",
        "### <u> Measures of distances </u>\n",
        "* ### Euclidean Distance : The distance between two points $(x_{1},y_{1})$ , $(x_{2},y_{2})$ is defined as :\n",
        "${\\displaystyle d(x,y)={\\sqrt {(x_{1}-x_{2})^{2}+(y_{1}-y_{2})^{2}}}.}$\n",
        "\n",
        "* ### Manhattan Distance : The distance between two points $(x_{1},y_{1})$ , $(x_{2},y_{2})$ is defined as :\n",
        "${\\displaystyle d(x,y)=|x_{1}-x_{2}|+|y_{1}-y_{2}|}$\n"
      ]
    },
    {
      "cell_type": "markdown",
      "metadata": {
        "id": "lw7TLsfd-eXc"
      },
      "source": [
        "### Create a 2-D array of 10 points where the x-coordinates and the y-coordinates can take random integral values between 5 and 20.\n",
        "\n",
        "\n",
        "### Next, create two 1-D arrays(one for  Euclidean distance and the other for  Manhattan distance) for these points\n"
      ]
    },
    {
      "cell_type": "code",
      "metadata": {
        "id": "TOEq4PEP5y8X",
        "outputId": "deb13323-48b7-437d-d7ee-ca58f6a522d4",
        "colab": {
          "base_uri": "https://localhost:8080/"
        }
      },
      "source": [
        "# Create the 10 points\n",
        "np.random.seed(21)\n",
        "d2arr = np.random.randint(5,20,10).reshape(2,5)\n",
        "d2arr"
      ],
      "execution_count": 6,
      "outputs": [
        {
          "output_type": "execute_result",
          "data": {
            "text/plain": [
              "array([[14, 13,  9,  5,  5],\n",
              "       [13,  8, 17,  7,  6]])"
            ]
          },
          "metadata": {},
          "execution_count": 6
        }
      ]
    },
    {
      "cell_type": "code",
      "metadata": {
        "id": "n86qvsfF6PO2",
        "colab": {
          "base_uri": "https://localhost:8080/"
        },
        "outputId": "b080f0e8-13ad-4751-ca3f-f6d2667e80d0"
      },
      "source": [
        "# Calculate Euclidean distances between these pairs of points (total 10*10 = 100 pairs including self pairs). This should give you a 10*10 2-D array where each value corresponds to the distance between a pair\n",
        "A=[]\n",
        "B=[]\n",
        "for i in d2arr:\n",
        "  for j in i:\n",
        "    for k in range(len(i)):\n",
        "      a = (j,i[k])\n",
        "      b = (j,i[k])\n",
        "      A.append(a)\n",
        "      B.append(b)\n",
        "\n",
        "print(A)\n",
        "print(B)"
      ],
      "execution_count": 7,
      "outputs": [
        {
          "output_type": "stream",
          "name": "stdout",
          "text": [
            "[(14, 14), (14, 13), (14, 9), (14, 5), (14, 5), (13, 14), (13, 13), (13, 9), (13, 5), (13, 5), (9, 14), (9, 13), (9, 9), (9, 5), (9, 5), (5, 14), (5, 13), (5, 9), (5, 5), (5, 5), (5, 14), (5, 13), (5, 9), (5, 5), (5, 5), (13, 13), (13, 8), (13, 17), (13, 7), (13, 6), (8, 13), (8, 8), (8, 17), (8, 7), (8, 6), (17, 13), (17, 8), (17, 17), (17, 7), (17, 6), (7, 13), (7, 8), (7, 17), (7, 7), (7, 6), (6, 13), (6, 8), (6, 17), (6, 7), (6, 6)]\n",
            "[(14, 14), (14, 13), (14, 9), (14, 5), (14, 5), (13, 14), (13, 13), (13, 9), (13, 5), (13, 5), (9, 14), (9, 13), (9, 9), (9, 5), (9, 5), (5, 14), (5, 13), (5, 9), (5, 5), (5, 5), (5, 14), (5, 13), (5, 9), (5, 5), (5, 5), (13, 13), (13, 8), (13, 17), (13, 7), (13, 6), (8, 13), (8, 8), (8, 17), (8, 7), (8, 6), (17, 13), (17, 8), (17, 17), (17, 7), (17, 6), (7, 13), (7, 8), (7, 17), (7, 7), (7, 6), (6, 13), (6, 8), (6, 17), (6, 7), (6, 6)]\n"
          ]
        }
      ]
    },
    {
      "cell_type": "code",
      "source": [
        "for m in A:\n",
        "    for n in B:\n",
        "      ED= ((m[0]-m[1])**2 +(n[0]-n[1])**2)**(0.5)\n",
        "      print(int(ED))"
      ],
      "metadata": {
        "id": "eVkliYMzyCGX"
      },
      "execution_count": null,
      "outputs": []
    },
    {
      "cell_type": "code",
      "metadata": {
        "id": "-FIU9Wp97V3P"
      },
      "source": [
        "# Calculate Manhattan distances between these pairs of points (total 10*10 = 100 pairs inlcuding self pairs).This should give you a 10*10 2-D array where each value corresponds to the distance between a pair.\n",
        "\n",
        "for m in A:\n",
        "    for n in B:\n",
        "      MD= (np.absolute(m[0]-m[1]) +np.absolute(n[0]-n[1]))\n",
        "      print((MD))\n",
        "\n"
      ],
      "execution_count": null,
      "outputs": []
    },
    {
      "cell_type": "markdown",
      "metadata": {
        "id": "5ZaKtQlZBLoQ"
      },
      "source": [
        "## Find the closest pairs (excluding self pairs) on the basis of both the distance measures"
      ]
    },
    {
      "cell_type": "code",
      "metadata": {
        "id": "AeKJGamV6qnu"
      },
      "source": [
        "# Your code here\n",
        "\n",
        "\n",
        "\n"
      ],
      "execution_count": 10,
      "outputs": []
    },
    {
      "cell_type": "markdown",
      "metadata": {
        "id": "rnEIpxdzfIhF"
      },
      "source": [
        "# <u>**Problem 3**</u>\n",
        "\n",
        "## Extract all the contiguous 3x3 blocks from a random 10x10 matrix. For example, the first matrix corresponds to [:3,:3], then the second matrix corresponds to [:3,1:4],.... Once you have covered the first three rows, then the next set of matrices would be [1:4,:3],[1:4,1:4],.... and so on and so forth. The last matrix would be [7:10,7:10]"
      ]
    },
    {
      "cell_type": "code",
      "metadata": {
        "id": "NuQh8LLBma-0",
        "colab": {
          "base_uri": "https://localhost:8080/"
        },
        "outputId": "882865af-2657-460c-fda6-ea9f9bcd54f0"
      },
      "source": [
        "# Your code below ..\n",
        "np.random.seed(21)\n",
        "matrix = np.random.randint(1,9,size=(10,10))\n",
        "matrix\n"
      ],
      "execution_count": 19,
      "outputs": [
        {
          "output_type": "execute_result",
          "data": {
            "text/plain": [
              "array([[2, 8, 1, 5, 1, 1, 1, 4, 5, 3],\n",
              "       [8, 2, 3, 1, 7, 8, 5, 6, 6, 2],\n",
              "       [6, 7, 3, 1, 7, 5, 7, 5, 4, 5],\n",
              "       [8, 5, 1, 2, 6, 7, 6, 3, 7, 3],\n",
              "       [1, 5, 3, 1, 6, 6, 1, 3, 4, 1],\n",
              "       [1, 4, 2, 5, 1, 3, 8, 7, 5, 3],\n",
              "       [5, 2, 1, 6, 1, 6, 6, 4, 2, 7],\n",
              "       [4, 5, 5, 7, 7, 5, 7, 2, 1, 3],\n",
              "       [3, 3, 1, 1, 8, 2, 8, 6, 7, 3],\n",
              "       [2, 8, 2, 1, 3, 3, 8, 7, 1, 2]])"
            ]
          },
          "metadata": {},
          "execution_count": 19
        }
      ]
    },
    {
      "cell_type": "code",
      "source": [
        "matrix[:3,:3]"
      ],
      "metadata": {
        "colab": {
          "base_uri": "https://localhost:8080/"
        },
        "id": "BeA953fcZ76a",
        "outputId": "e38b0f5f-a47c-4d77-9090-4f69e5ff7ade"
      },
      "execution_count": 24,
      "outputs": [
        {
          "output_type": "execute_result",
          "data": {
            "text/plain": [
              "array([[2, 8, 1],\n",
              "       [8, 2, 3],\n",
              "       [6, 7, 3]])"
            ]
          },
          "metadata": {},
          "execution_count": 24
        }
      ]
    },
    {
      "cell_type": "code",
      "source": [
        "len(matrix)"
      ],
      "metadata": {
        "colab": {
          "base_uri": "https://localhost:8080/"
        },
        "id": "sfHybAWbauET",
        "outputId": "8aa32e39-044b-4536-c4ed-9b59ff05968b"
      },
      "execution_count": 29,
      "outputs": [
        {
          "output_type": "execute_result",
          "data": {
            "text/plain": [
              "10"
            ]
          },
          "metadata": {},
          "execution_count": 29
        }
      ]
    },
    {
      "cell_type": "code",
      "source": [
        "for j in range(len(matrix)-2):\n",
        "    for i in range(len(matrix)-2):\n",
        "      print(matrix[j:j+3,i:i+3])"
      ],
      "metadata": {
        "colab": {
          "base_uri": "https://localhost:8080/"
        },
        "id": "o187t_mGZOB5",
        "outputId": "186c6f20-130d-4901-9d2f-c2231285ef0f"
      },
      "execution_count": 33,
      "outputs": [
        {
          "output_type": "stream",
          "name": "stdout",
          "text": [
            "[[2 8 1]\n",
            " [8 2 3]\n",
            " [6 7 3]]\n",
            "[[8 1 5]\n",
            " [2 3 1]\n",
            " [7 3 1]]\n",
            "[[1 5 1]\n",
            " [3 1 7]\n",
            " [3 1 7]]\n",
            "[[5 1 1]\n",
            " [1 7 8]\n",
            " [1 7 5]]\n",
            "[[1 1 1]\n",
            " [7 8 5]\n",
            " [7 5 7]]\n",
            "[[1 1 4]\n",
            " [8 5 6]\n",
            " [5 7 5]]\n",
            "[[1 4 5]\n",
            " [5 6 6]\n",
            " [7 5 4]]\n",
            "[[4 5 3]\n",
            " [6 6 2]\n",
            " [5 4 5]]\n",
            "[[8 2 3]\n",
            " [6 7 3]\n",
            " [8 5 1]]\n",
            "[[2 3 1]\n",
            " [7 3 1]\n",
            " [5 1 2]]\n",
            "[[3 1 7]\n",
            " [3 1 7]\n",
            " [1 2 6]]\n",
            "[[1 7 8]\n",
            " [1 7 5]\n",
            " [2 6 7]]\n",
            "[[7 8 5]\n",
            " [7 5 7]\n",
            " [6 7 6]]\n",
            "[[8 5 6]\n",
            " [5 7 5]\n",
            " [7 6 3]]\n",
            "[[5 6 6]\n",
            " [7 5 4]\n",
            " [6 3 7]]\n",
            "[[6 6 2]\n",
            " [5 4 5]\n",
            " [3 7 3]]\n",
            "[[6 7 3]\n",
            " [8 5 1]\n",
            " [1 5 3]]\n",
            "[[7 3 1]\n",
            " [5 1 2]\n",
            " [5 3 1]]\n",
            "[[3 1 7]\n",
            " [1 2 6]\n",
            " [3 1 6]]\n",
            "[[1 7 5]\n",
            " [2 6 7]\n",
            " [1 6 6]]\n",
            "[[7 5 7]\n",
            " [6 7 6]\n",
            " [6 6 1]]\n",
            "[[5 7 5]\n",
            " [7 6 3]\n",
            " [6 1 3]]\n",
            "[[7 5 4]\n",
            " [6 3 7]\n",
            " [1 3 4]]\n",
            "[[5 4 5]\n",
            " [3 7 3]\n",
            " [3 4 1]]\n",
            "[[8 5 1]\n",
            " [1 5 3]\n",
            " [1 4 2]]\n",
            "[[5 1 2]\n",
            " [5 3 1]\n",
            " [4 2 5]]\n",
            "[[1 2 6]\n",
            " [3 1 6]\n",
            " [2 5 1]]\n",
            "[[2 6 7]\n",
            " [1 6 6]\n",
            " [5 1 3]]\n",
            "[[6 7 6]\n",
            " [6 6 1]\n",
            " [1 3 8]]\n",
            "[[7 6 3]\n",
            " [6 1 3]\n",
            " [3 8 7]]\n",
            "[[6 3 7]\n",
            " [1 3 4]\n",
            " [8 7 5]]\n",
            "[[3 7 3]\n",
            " [3 4 1]\n",
            " [7 5 3]]\n",
            "[[1 5 3]\n",
            " [1 4 2]\n",
            " [5 2 1]]\n",
            "[[5 3 1]\n",
            " [4 2 5]\n",
            " [2 1 6]]\n",
            "[[3 1 6]\n",
            " [2 5 1]\n",
            " [1 6 1]]\n",
            "[[1 6 6]\n",
            " [5 1 3]\n",
            " [6 1 6]]\n",
            "[[6 6 1]\n",
            " [1 3 8]\n",
            " [1 6 6]]\n",
            "[[6 1 3]\n",
            " [3 8 7]\n",
            " [6 6 4]]\n",
            "[[1 3 4]\n",
            " [8 7 5]\n",
            " [6 4 2]]\n",
            "[[3 4 1]\n",
            " [7 5 3]\n",
            " [4 2 7]]\n",
            "[[1 4 2]\n",
            " [5 2 1]\n",
            " [4 5 5]]\n",
            "[[4 2 5]\n",
            " [2 1 6]\n",
            " [5 5 7]]\n",
            "[[2 5 1]\n",
            " [1 6 1]\n",
            " [5 7 7]]\n",
            "[[5 1 3]\n",
            " [6 1 6]\n",
            " [7 7 5]]\n",
            "[[1 3 8]\n",
            " [1 6 6]\n",
            " [7 5 7]]\n",
            "[[3 8 7]\n",
            " [6 6 4]\n",
            " [5 7 2]]\n",
            "[[8 7 5]\n",
            " [6 4 2]\n",
            " [7 2 1]]\n",
            "[[7 5 3]\n",
            " [4 2 7]\n",
            " [2 1 3]]\n",
            "[[5 2 1]\n",
            " [4 5 5]\n",
            " [3 3 1]]\n",
            "[[2 1 6]\n",
            " [5 5 7]\n",
            " [3 1 1]]\n",
            "[[1 6 1]\n",
            " [5 7 7]\n",
            " [1 1 8]]\n",
            "[[6 1 6]\n",
            " [7 7 5]\n",
            " [1 8 2]]\n",
            "[[1 6 6]\n",
            " [7 5 7]\n",
            " [8 2 8]]\n",
            "[[6 6 4]\n",
            " [5 7 2]\n",
            " [2 8 6]]\n",
            "[[6 4 2]\n",
            " [7 2 1]\n",
            " [8 6 7]]\n",
            "[[4 2 7]\n",
            " [2 1 3]\n",
            " [6 7 3]]\n",
            "[[4 5 5]\n",
            " [3 3 1]\n",
            " [2 8 2]]\n",
            "[[5 5 7]\n",
            " [3 1 1]\n",
            " [8 2 1]]\n",
            "[[5 7 7]\n",
            " [1 1 8]\n",
            " [2 1 3]]\n",
            "[[7 7 5]\n",
            " [1 8 2]\n",
            " [1 3 3]]\n",
            "[[7 5 7]\n",
            " [8 2 8]\n",
            " [3 3 8]]\n",
            "[[5 7 2]\n",
            " [2 8 6]\n",
            " [3 8 7]]\n",
            "[[7 2 1]\n",
            " [8 6 7]\n",
            " [8 7 1]]\n",
            "[[2 1 3]\n",
            " [6 7 3]\n",
            " [7 1 2]]\n"
          ]
        }
      ]
    },
    {
      "cell_type": "markdown",
      "metadata": {
        "id": "UtGDDH9Qq_2M"
      },
      "source": [
        "#<u>**Problem 4**</u>\n",
        "\n",
        "### Write a function which finds the nearest value from a given value in an array of random N elements. Suppose you created an 1-D array with 15 elements taking values between 10 and 500. Your function would take any input from these values and return the nearest value. (You can use np.abs() function)"
      ]
    },
    {
      "cell_type": "code",
      "metadata": {
        "id": "oknMAmKWFNSX",
        "colab": {
          "base_uri": "https://localhost:8080/"
        },
        "outputId": "d885d8d9-2ddf-4179-b8bf-f602c35fce55"
      },
      "source": [
        "# Your function below\n",
        "#Creating a random array\n",
        "array_random = np.random.randint(10,500,15)\n",
        "array_random\n"
      ],
      "execution_count": 172,
      "outputs": [
        {
          "output_type": "execute_result",
          "data": {
            "text/plain": [
              "array([194, 168, 472,  11, 344, 203,  46, 128, 260, 386, 455, 191, 394,\n",
              "       269, 273])"
            ]
          },
          "metadata": {},
          "execution_count": 172
        }
      ]
    },
    {
      "cell_type": "code",
      "source": [
        "#Defining a function for calling nearest number from array\n",
        "def nearest_point(random_array):\n",
        "  element=int(input(\"Enter Your Number:\\n\"))\n",
        "  \n",
        "  #Creating a list for numbers less than input number(element)\n",
        "  lst1=[]\n",
        "  for i in random_array:\n",
        "    if i < element:\n",
        "      lst1.append(i)\n",
        "\n",
        "  #Get nearest number from inputted number in  lst1\n",
        "  if len(lst1)>0:\n",
        "    maxi=max(lst1)\n",
        "\n",
        "  #Creating a list for numbers greater than input number(element)\n",
        "  lst2=[]\n",
        "  for i in random_array:\n",
        "    if i > element:\n",
        "      lst2.append(i)\n",
        "\n",
        "  #Get nearest number from inputted number in  lst2    \n",
        "  if len(lst2)>0:\n",
        "    mini=min(lst2)\n",
        "\n",
        "  #Checking all the conditionals to get the nearest number\n",
        "  if len(lst1)==0:\n",
        "    print(f\"The nearest point of {element} is {mini}\")\n",
        "\n",
        "  elif len(lst2)==0:\n",
        "    print(f\"The nearest point of {element} is {maxi}\")\n",
        "\n",
        "  elif (element-maxi) == (mini-element):\n",
        "    print((f\"The nearest point of {element} are {maxi} and {mini}\"))\n",
        "\n",
        "  elif (element-maxi) < (mini-element):\n",
        "    print(f\"The nearest point of {element} is {maxi}\")\n",
        "    \n",
        "  elif(element-maxi) > (mini-element):\n",
        "    print(f\"The nearest point of  {element} is {mini}\")"
      ],
      "metadata": {
        "id": "BdPDu4CgdpfO"
      },
      "execution_count": 173,
      "outputs": []
    },
    {
      "cell_type": "code",
      "source": [
        "nearest_point(array_random)"
      ],
      "metadata": {
        "colab": {
          "base_uri": "https://localhost:8080/"
        },
        "id": "GqoGMUJlvY4W",
        "outputId": "6a86e683-4978-4973-b539-6ad13e14c639"
      },
      "execution_count": 175,
      "outputs": [
        {
          "output_type": "stream",
          "name": "stdout",
          "text": [
            "Enter Your Number:\n",
            "10\n",
            "The nearest point of 10 is 11\n"
          ]
        }
      ]
    }
  ]
}