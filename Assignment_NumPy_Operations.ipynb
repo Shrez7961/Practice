{
  "nbformat": 4,
  "nbformat_minor": 0,
  "metadata": {
    "colab": {
      "name": " Assignment - NumPy Operations.ipynb",
      "provenance": [],
      "collapsed_sections": [],
      "include_colab_link": true
    },
    "kernelspec": {
      "name": "python3",
      "display_name": "Python 3"
    }
  },
  "cells": [
    {
      "cell_type": "markdown",
      "metadata": {
        "id": "view-in-github",
        "colab_type": "text"
      },
      "source": [
        "<a href=\"https://colab.research.google.com/github/Shrez7961/Practice/blob/main/Assignment_NumPy_Operations.ipynb\" target=\"_parent\"><img src=\"https://colab.research.google.com/assets/colab-badge.svg\" alt=\"Open In Colab\"/></a>"
      ]
    },
    {
      "cell_type": "markdown",
      "metadata": {
        "id": "MKXTc2Tas23T"
      },
      "source": [
        "# <u> Use only those concepts which have been taught till now </u>"
      ]
    },
    {
      "cell_type": "code",
      "metadata": {
        "id": "0V3Xtuh9siNn"
      },
      "source": [
        "import numpy as np"
      ],
      "execution_count": null,
      "outputs": []
    },
    {
      "cell_type": "markdown",
      "metadata": {
        "id": "Ase3qjp9cJUC"
      },
      "source": [
        "# <u>**Problem 1**</u>\n",
        "\n",
        "### What is the average value of the first 5 rows of the third and fourth columns?\n",
        "\n"
      ]
    },
    {
      "cell_type": "code",
      "metadata": {
        "id": "xj0SaK7smcPu",
        "outputId": "7ca64019-babb-4b7e-fca7-d18936d10e0b",
        "colab": {
          "base_uri": "https://localhost:8080/"
        }
      },
      "source": [
        "np.random.seed(21) # This guarantees the code will generate the same set of random numbers whenever executed\n",
        "random_integers = np.random.randint(1,high=500000, size=(20, 5))\n",
        "random_integers"
      ],
      "execution_count": null,
      "outputs": [
        {
          "output_type": "execute_result",
          "data": {
            "text/plain": [
              "array([[ 80842, 333008, 202553, 140037,  81969],\n",
              "       [ 63857,  42105, 261540, 481981, 176739],\n",
              "       [489984, 326386, 110795, 394863,  25024],\n",
              "       [ 38317,  49982, 408830, 485118,  16119],\n",
              "       [407675, 231729, 265455, 109413, 103399],\n",
              "       [174677, 343356, 301717, 224120, 401101],\n",
              "       [140473, 254634, 112262,  25063, 108262],\n",
              "       [375059, 406983, 208947, 115641, 296685],\n",
              "       [444899, 129585, 171318, 313094, 425041],\n",
              "       [188411, 335140, 141681,  59641, 211420],\n",
              "       [287650,   8973, 477425, 382803, 465168],\n",
              "       [  3975,  32213, 160603, 275485, 388234],\n",
              "       [246225,  56174, 244097,   9350, 496966],\n",
              "       [225516, 273338,  73335, 283013, 212813],\n",
              "       [ 38175, 282399, 318413, 337639, 379802],\n",
              "       [198049, 101115, 419547, 260219, 325793],\n",
              "       [148593, 425024, 348570, 117968, 107007],\n",
              "       [ 52547, 180346, 178760, 305186, 262153],\n",
              "       [ 11835, 449971, 494184, 472031, 353049],\n",
              "       [476442,  35455, 191553, 384154,  29917]])"
            ]
          },
          "metadata": {},
          "execution_count": 2
        }
      ]
    },
    {
      "cell_type": "code",
      "metadata": {
        "id": "N1hhYCZw3V1c",
        "outputId": "9340bd61-1b7b-4d93-ccf8-b8dd48560076",
        "colab": {
          "base_uri": "https://localhost:8080/"
        }
      },
      "source": [
        "# Your code here\n",
        "slice_array = random_integers[:5,3:]\n",
        "slice_array\n"
      ],
      "execution_count": null,
      "outputs": [
        {
          "output_type": "execute_result",
          "data": {
            "text/plain": [
              "array([[140037,  81969],\n",
              "       [481981, 176739],\n",
              "       [394863,  25024],\n",
              "       [485118,  16119],\n",
              "       [109413, 103399]])"
            ]
          },
          "metadata": {},
          "execution_count": 29
        }
      ]
    },
    {
      "cell_type": "code",
      "source": [
        "#Average of individual list in slice\n",
        "for i in range(5):\n",
        "  avg =slice_array[i].sum()/slice_array[i].size\n",
        "  print(avg)\n"
      ],
      "metadata": {
        "id": "yl6BEmMOl29V",
        "outputId": "eac27fcf-e1a2-4278-def9-cf78056dd2d0",
        "colab": {
          "base_uri": "https://localhost:8080/"
        }
      },
      "execution_count": null,
      "outputs": [
        {
          "output_type": "stream",
          "name": "stdout",
          "text": [
            "111003.0\n",
            "329360.0\n",
            "209943.5\n",
            "250618.5\n",
            "106406.0\n"
          ]
        }
      ]
    },
    {
      "cell_type": "code",
      "source": [
        "#Average of total slice\n",
        "avrg=slice_array.sum()/slice_array.size\n",
        "avrg"
      ],
      "metadata": {
        "id": "INLtSd4DlVTB",
        "outputId": "f3e18131-a787-49f3-ee61-6f09d0669e7b",
        "colab": {
          "base_uri": "https://localhost:8080/"
        }
      },
      "execution_count": null,
      "outputs": [
        {
          "output_type": "execute_result",
          "data": {
            "text/plain": [
              "201466.2"
            ]
          },
          "metadata": {},
          "execution_count": 31
        }
      ]
    },
    {
      "cell_type": "markdown",
      "metadata": {
        "id": "POAj5sBgd3gd"
      },
      "source": [
        "#<u>**Problem 2**</u>\n",
        "\n",
        "### In this problem, we are going to calculate distances between some pairs of points :\n",
        "\n",
        "### <u> Measures of distances </u>\n",
        "* ### Euclidean Distance : The distance between two points $(x_{1},y_{1})$ , $(x_{2},y_{2})$ is defined as :\n",
        "${\\displaystyle d(x,y)={\\sqrt {(x_{1}-x_{2})^{2}+(y_{1}-y_{2})^{2}}}.}$\n",
        "\n",
        "* ### Manhattan Distance : The distance between two points $(x_{1},y_{1})$ , $(x_{2},y_{2})$ is defined as :\n",
        "${\\displaystyle d(x,y)=|x_{1}-x_{2}|+|y_{1}-y_{2}|}$\n"
      ]
    },
    {
      "cell_type": "markdown",
      "metadata": {
        "id": "lw7TLsfd-eXc"
      },
      "source": [
        "### Create a 2-D array of 10 points where the x-coordinates and the y-coordinates can take random integral values between 5 and 20.\n",
        "\n",
        "\n",
        "### Next, create two 1-D arrays(one for  Euclidean distance and the other for  Manhattan distance) for these points\n"
      ]
    },
    {
      "cell_type": "code",
      "metadata": {
        "id": "TOEq4PEP5y8X",
        "outputId": "df93eae6-02a8-49ad-d033-8d8b83ce824a",
        "colab": {
          "base_uri": "https://localhost:8080/"
        }
      },
      "source": [
        "# Create the 10 points\n",
        "np.random.seed(21)\n",
        "d2arr = np.random.randint(5,20,10).reshape(2,5)\n",
        "d2arr"
      ],
      "execution_count": null,
      "outputs": [
        {
          "output_type": "execute_result",
          "data": {
            "text/plain": [
              "array([[14, 13,  9,  5,  5],\n",
              "       [13,  8, 17,  7,  6]])"
            ]
          },
          "metadata": {},
          "execution_count": 60
        }
      ]
    },
    {
      "cell_type": "code",
      "metadata": {
        "id": "n86qvsfF6PO2"
      },
      "source": [
        "# Calculate Euclidean distances between these pairs of points (total 10*10 = 100 pairs including self pairs). This should give you a 10*10 2-D array where each value corresponds to the distance between a pair\n",
        "\n",
        "\n",
        "\n"
      ],
      "execution_count": null,
      "outputs": []
    },
    {
      "cell_type": "code",
      "metadata": {
        "id": "-FIU9Wp97V3P"
      },
      "source": [
        "# Calculate Manhattan distances between these pairs of points (total 10*10 = 100 pairs inlcuding self pairs).This should give you a 10*10 2-D array where each value corresponds to the distance between a pair.\n",
        "\n",
        "\n",
        "\n"
      ],
      "execution_count": null,
      "outputs": []
    },
    {
      "cell_type": "markdown",
      "metadata": {
        "id": "5ZaKtQlZBLoQ"
      },
      "source": [
        "## Find the closest pairs (excluding self pairs) on the basis of both the distance measures"
      ]
    },
    {
      "cell_type": "code",
      "metadata": {
        "id": "AeKJGamV6qnu"
      },
      "source": [
        "# Your code here\n",
        "\n",
        "\n",
        "\n"
      ],
      "execution_count": null,
      "outputs": []
    },
    {
      "cell_type": "markdown",
      "metadata": {
        "id": "rnEIpxdzfIhF"
      },
      "source": [
        "# <u>**Problem 3**</u>\n",
        "\n",
        "## Extract all the contiguous 3x3 blocks from a random 10x10 matrix. For example, the first matrix corresponds to [:3,:3], then the second matrix corresponds to [:3,1:4],.... Once you have covered the first three rows, then the next set of matrices would be [1:4,:3],[1:4,1:4],.... and so on and so forth. The last matrix would be [7:10,7:10]"
      ]
    },
    {
      "cell_type": "code",
      "metadata": {
        "id": "NuQh8LLBma-0"
      },
      "source": [
        "# Your code below ..\n",
        "\n",
        "\n",
        "\n",
        "\n",
        "\n",
        "\n",
        "\n",
        "\n"
      ],
      "execution_count": null,
      "outputs": []
    },
    {
      "cell_type": "markdown",
      "metadata": {
        "id": "UtGDDH9Qq_2M"
      },
      "source": [
        "#<u>**Problem 4**</u>\n",
        "\n",
        "### Write a function which finds the nearest value from a given value in an array of random N elements. Suppose you created an 1-D array with 15 elements taking values between 10 and 500. Your function would take any input from these values and return the nearest value. (You can use np.abs() function)"
      ]
    },
    {
      "cell_type": "code",
      "metadata": {
        "id": "oknMAmKWFNSX"
      },
      "source": [
        "# Your function below\n",
        "\n",
        "\n",
        "\n"
      ],
      "execution_count": null,
      "outputs": []
    }
  ]
}