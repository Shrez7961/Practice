{
  "nbformat": 4,
  "nbformat_minor": 0,
  "metadata": {
    "colab": {
      "name": "Probability Theory.ipynb",
      "provenance": [],
      "collapsed_sections": [],
      "include_colab_link": true
    },
    "kernelspec": {
      "name": "python3",
      "display_name": "Python 3"
    }
  },
  "cells": [
    {
      "cell_type": "markdown",
      "metadata": {
        "id": "view-in-github",
        "colab_type": "text"
      },
      "source": [
        "<a href=\"https://colab.research.google.com/github/Shrez7961/Practice/blob/main/Probability_Theory.ipynb\" target=\"_parent\"><img src=\"https://colab.research.google.com/assets/colab-badge.svg\" alt=\"Open In Colab\"/></a>"
      ]
    },
    {
      "cell_type": "markdown",
      "metadata": {
        "id": "UnOZIRcik-30"
      },
      "source": [
        "Code is not mandatory. You can solve these problems on your own."
      ]
    },
    {
      "cell_type": "markdown",
      "metadata": {
        "id": "bzoDqJiIMmjk"
      },
      "source": [
        "# Problem 1\n",
        "\n",
        "In a group of 25 people, 18 have a mortgage, 13 own some shares and 2 people have neither a mortgage nor any shares. How many people have both?"
      ]
    },
    {
      "cell_type": "code",
      "metadata": {
        "id": "jbieZJZqMefG"
      },
      "source": [
        "total=25\n",
        "mortgage=18\n",
        "shares=13\n",
        "none = 2  "
      ],
      "execution_count": 2,
      "outputs": []
    },
    {
      "cell_type": "code",
      "metadata": {
        "id": "1yvLi6eFMwcw"
      },
      "source": [
        "#n(A U B) = n(A) + n(B) - n(A U B)\n",
        "people_having_both =  mortgage + shares + none - total"
      ],
      "execution_count": 3,
      "outputs": []
    },
    {
      "cell_type": "code",
      "metadata": {
        "id": "QIGWOGrdMwXr",
        "colab": {
          "base_uri": "https://localhost:8080/"
        },
        "outputId": "29f03dd2-8bf4-4d82-de81-9979eaef0720"
      },
      "source": [
        "people_having_both"
      ],
      "execution_count": 4,
      "outputs": [
        {
          "output_type": "execute_result",
          "data": {
            "text/plain": [
              "8"
            ]
          },
          "metadata": {},
          "execution_count": 4
        }
      ]
    },
    {
      "cell_type": "markdown",
      "metadata": {
        "id": "XIltCZuJMxj3"
      },
      "source": [
        "# Problem 2\n",
        "\n",
        "A contestant on a game show is asked two questions. The probability that she gets the first question correct is 0.3 and the probability that she gets the second question correct is 0.4. Given that the probability that she gets both questions correct is 0.1, calculate the probability that: \n",
        "1. She gets either the first, the second or both questions right \n",
        "2. She gets both questions wrong\n"
      ]
    },
    {
      "cell_type": "code",
      "metadata": {
        "id": "ctM3WDgGM7R4"
      },
      "source": [
        "probA = 0.3 \n",
        "probB = 0.4\n",
        "AintB = 0.1"
      ],
      "execution_count": 5,
      "outputs": []
    },
    {
      "cell_type": "code",
      "metadata": {
        "id": "Qv50pRLVM8OZ",
        "colab": {
          "base_uri": "https://localhost:8080/"
        },
        "outputId": "252ee87e-90f2-400c-964d-efd73a4780c4"
      },
      "source": [
        "#Probablity of either correct\n",
        "either_correct = probA + probB - AintB\n",
        "either_correct \n"
      ],
      "execution_count": 6,
      "outputs": [
        {
          "output_type": "execute_result",
          "data": {
            "text/plain": [
              "0.6"
            ]
          },
          "metadata": {},
          "execution_count": 6
        }
      ]
    },
    {
      "cell_type": "code",
      "metadata": {
        "id": "kcJ1IJgEM8Ro",
        "colab": {
          "base_uri": "https://localhost:8080/"
        },
        "outputId": "4109b5e8-8020-4935-bcf2-06462df8cfad"
      },
      "source": [
        "#Probability of both wrong answer\n",
        "both_wrong = 1 - either_correct\n",
        "both_wrong"
      ],
      "execution_count": 7,
      "outputs": [
        {
          "output_type": "execute_result",
          "data": {
            "text/plain": [
              "0.4"
            ]
          },
          "metadata": {},
          "execution_count": 7
        }
      ]
    },
    {
      "cell_type": "markdown",
      "metadata": {
        "id": "BmdMTTUXNNDQ"
      },
      "source": [
        "# Problem 3\n",
        "\n",
        "A 4 digit PIN is selected. What is the probability that there are no repeated digits?\n"
      ]
    },
    {
      "cell_type": "code",
      "source": [
        "def factorial(n):\n",
        "  f=1\n",
        "  for i in range(1,n+1):\n",
        "    f=f*i\n",
        "  return f"
      ],
      "metadata": {
        "id": "_cMX5mQP4m-r"
      },
      "execution_count": 19,
      "outputs": []
    },
    {
      "cell_type": "code",
      "source": [
        "#permutation\n",
        "def P(n,r):\n",
        "  return int(factorial(n)/factorial(n-r))\n"
      ],
      "metadata": {
        "id": "Ots41Cpl41FF"
      },
      "execution_count": 20,
      "outputs": []
    },
    {
      "cell_type": "code",
      "source": [
        "#As order matters here we will take permutation:\n",
        "possible_outcomes = P(10,4)\n",
        "possible_outcomes"
      ],
      "metadata": {
        "colab": {
          "base_uri": "https://localhost:8080/"
        },
        "id": "-LRbaOEK5MvS",
        "outputId": "289e7dc6-99f3-4df9-b849-627fb863e67d"
      },
      "execution_count": 22,
      "outputs": [
        {
          "output_type": "execute_result",
          "data": {
            "text/plain": [
              "5040"
            ]
          },
          "metadata": {},
          "execution_count": 22
        }
      ]
    },
    {
      "cell_type": "code",
      "source": [
        "print(f\"The possible combinations are {possible_outcomes} and the probability percentage is {possible_outcomes/10000  * 100}\")"
      ],
      "metadata": {
        "colab": {
          "base_uri": "https://localhost:8080/"
        },
        "id": "4MD8WE0e5koF",
        "outputId": "b82d2873-7357-4abf-fa9e-b94e785926a4"
      },
      "execution_count": 23,
      "outputs": [
        {
          "output_type": "stream",
          "name": "stdout",
          "text": [
            "The possible combinations are 5040 and the probability percentage is 50.4\n"
          ]
        }
      ]
    },
    {
      "cell_type": "code",
      "metadata": {
        "id": "_EHaPIGQNMb_"
      },
      "source": [
        "#Alternate way:\n",
        "\n",
        "total_4digit_pin_with_repeated_numbers = 9*10*10*10\n",
        "total_4digit_pin_with_non_repeated_numbers = 9 * 9 * 8 * 7"
      ],
      "execution_count": 8,
      "outputs": []
    },
    {
      "cell_type": "code",
      "metadata": {
        "id": "zv--isV5NSEk",
        "colab": {
          "base_uri": "https://localhost:8080/"
        },
        "outputId": "e47a738f-3c24-4411-e352-778ce8be3b26"
      },
      "source": [
        "prob_of_no_repeated_digits = total_4digit_pin_with_non_repeated_numbers/total_4digit_pin_with_repeated_numbers*100\n",
        "prob_of_no_repeated_digits"
      ],
      "execution_count": 9,
      "outputs": [
        {
          "output_type": "execute_result",
          "data": {
            "text/plain": [
              "50.4"
            ]
          },
          "metadata": {},
          "execution_count": 9
        }
      ]
    },
    {
      "cell_type": "markdown",
      "metadata": {
        "id": "f59ewP6DNTZX"
      },
      "source": [
        "# Problem 4\n",
        "In a certain state’s lottery, 48 balls numbered 1 through 48 are placed in a machine and six of them are drawn at random. If the six numbers drawn match the numbers that a player had chosen, the player wins $1,000,000. In this lottery, the order the numbers are drawn in doesn’t matter. Compute the probability that you win the million-dollar prize if you purchase a single lottery ticket."
      ]
    },
    {
      "cell_type": "code",
      "metadata": {
        "id": "gLObzTZUNX_I"
      },
      "source": [
        "total_balls = 48\n",
        "no_of_balls_drawn = 6\n"
      ],
      "execution_count": 10,
      "outputs": []
    },
    {
      "cell_type": "code",
      "metadata": {
        "id": "w0Tc8AK1NYTj",
        "colab": {
          "base_uri": "https://localhost:8080/"
        },
        "outputId": "c53e04e5-f82c-4753-fae5-f8d1fe13ee38"
      },
      "source": [
        "#Using combination of balls where order doesn't matters : C(n,r) = n! / r!(n-r)!\n",
        "total_possible_tickets =  (48*47*46*45*44*43)/(6*5*4*3*2*1)\n",
        "total_possible_tickets"
      ],
      "execution_count": 11,
      "outputs": [
        {
          "output_type": "execute_result",
          "data": {
            "text/plain": [
              "12271512.0"
            ]
          },
          "metadata": {},
          "execution_count": 11
        }
      ]
    },
    {
      "cell_type": "code",
      "metadata": {
        "id": "8gO2dHy-NYD1",
        "colab": {
          "base_uri": "https://localhost:8080/"
        },
        "outputId": "51fd292f-5ce6-4322-d6dd-7c40bc16bb03"
      },
      "source": [
        "#Since order does not matters and the ball has to drawn in a single ticket only once, the probability of ball number of ball drawn is same as that of the ball number choosen is:\n",
        "prob = 1/total_possible_tickets\n",
        "prob"
      ],
      "execution_count": 12,
      "outputs": [
        {
          "output_type": "execute_result",
          "data": {
            "text/plain": [
              "8.148955075788542e-08"
            ]
          },
          "metadata": {},
          "execution_count": 12
        }
      ]
    },
    {
      "cell_type": "markdown",
      "metadata": {
        "id": "VgEPs_T29Pow"
      },
      "source": [
        "# Problem 5\n",
        "\n",
        "A person has three routes to get to work. The probability that he arrives on time using\n",
        "routes A, B and C are 60% , 62% and 70% respectively. If he is equally likely to\n",
        "choose any of the routes, and arrives at work on time, what is the probability that he\n",
        "chose route B?"
      ]
    },
    {
      "cell_type": "code",
      "metadata": {
        "id": "BaQ0G-FXNdhU"
      },
      "source": [
        "P_of_1Route = 1/3\n",
        "P_of_A = 0.6\n",
        "P_of_B = 0.62\n",
        "P_of_C = 0.7"
      ],
      "execution_count": 13,
      "outputs": []
    },
    {
      "cell_type": "code",
      "metadata": {
        "id": "6MR51kEG9zg7",
        "colab": {
          "base_uri": "https://localhost:8080/"
        },
        "outputId": "3287b365-5907-4463-9c64-e735df2c5133"
      },
      "source": [
        "total_prob = P_of_A + P_of_B + P_of_C\n",
        "total_prob"
      ],
      "execution_count": 16,
      "outputs": [
        {
          "output_type": "execute_result",
          "data": {
            "text/plain": [
              "1.92"
            ]
          },
          "metadata": {},
          "execution_count": 16
        }
      ]
    },
    {
      "cell_type": "code",
      "metadata": {
        "id": "uoRfUL8d9z4G",
        "colab": {
          "base_uri": "https://localhost:8080/"
        },
        "outputId": "9407c5b3-9394-4a18-aff3-c3913dc1c4ad"
      },
      "source": [
        "p_to_choose_B = ( P_of_B) / total_prob\n",
        "p_to_choose_B"
      ],
      "execution_count": 18,
      "outputs": [
        {
          "output_type": "execute_result",
          "data": {
            "text/plain": [
              "0.3229166666666667"
            ]
          },
          "metadata": {},
          "execution_count": 18
        }
      ]
    },
    {
      "cell_type": "code",
      "source": [
        ""
      ],
      "metadata": {
        "id": "kskHNaXW4JMi"
      },
      "execution_count": null,
      "outputs": []
    }
  ]
}