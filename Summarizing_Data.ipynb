{
  "nbformat": 4,
  "nbformat_minor": 0,
  "metadata": {
    "colab": {
      "name": "Summarizing Data.ipynb",
      "provenance": [],
      "collapsed_sections": [],
      "include_colab_link": true
    },
    "kernelspec": {
      "name": "python3",
      "display_name": "Python 3"
    }
  },
  "cells": [
    {
      "cell_type": "markdown",
      "metadata": {
        "id": "view-in-github",
        "colab_type": "text"
      },
      "source": [
        "<a href=\"https://colab.research.google.com/github/Shrez7961/Practice/blob/main/Summarizing_Data.ipynb\" target=\"_parent\"><img src=\"https://colab.research.google.com/assets/colab-badge.svg\" alt=\"Open In Colab\"/></a>"
      ]
    },
    {
      "cell_type": "markdown",
      "metadata": {
        "id": "a5m1VFY29bPV"
      },
      "source": [
        "# Problem 1\n",
        "\n",
        "Write a function which calculates the mode of a list of numbers. If there are two modes in the dataset, it should return both."
      ]
    },
    {
      "cell_type": "code",
      "metadata": {
        "id": "ZQDOGM_j9pOw"
      },
      "source": [
        "def mode_calculator(lst):\n",
        "\n",
        "  a=[]\n",
        "  mode=[]\n",
        "  for i in lst:\n",
        "    a.append([i,lst.count(i)])\n",
        "    my_dict = {a[j][0]:a[j][1] for j in range(len(a))}\n",
        "    for key,value in my_dict.items():\n",
        " \n",
        "      if value==max(list(my_dict.values())):\n",
        "         mode.append(key)\n",
        "         \n",
        "  return set(mode)"
      ],
      "execution_count": 90,
      "outputs": []
    },
    {
      "cell_type": "code",
      "source": [
        "lst = [5,6,5,5,6,7,6,5,4,2,4,4,2,10,10,4,]\n",
        "ls1 = [11,22,1,11,13,22]\n",
        "ls2 = [4,5,4,7,6,8,4,6,8,8,6]"
      ],
      "metadata": {
        "id": "pf4PPrQNSiDC"
      },
      "execution_count": 127,
      "outputs": []
    },
    {
      "cell_type": "code",
      "source": [
        "print(mode_calculator(lst))\n",
        "print(mode_calculator(ls1))\n",
        "print(mode_calculator(ls2))\n",
        "\n"
      ],
      "metadata": {
        "colab": {
          "base_uri": "https://localhost:8080/"
        },
        "id": "GjsYqoS4SgPT",
        "outputId": "adfb666c-9e13-4cea-a925-a4cbb80e42f1"
      },
      "execution_count": 128,
      "outputs": [
        {
          "output_type": "stream",
          "name": "stdout",
          "text": [
            "{4, 5}\n",
            "{11, 22}\n",
            "{8, 4, 6}\n"
          ]
        }
      ]
    },
    {
      "cell_type": "markdown",
      "metadata": {
        "id": "usbgmzHr9rK-"
      },
      "source": [
        "# Problem 2\n",
        "\n",
        "Perform outlier removal in the `duration` column of `phone_data.csv`\n",
        "\n",
        "Plot the boxplot and distplot post outlier removal."
      ]
    },
    {
      "cell_type": "code",
      "metadata": {
        "id": "yjcLiEwv9p9J"
      },
      "source": [
        ""
      ],
      "execution_count": null,
      "outputs": []
    },
    {
      "cell_type": "code",
      "metadata": {
        "id": "5Cm5s0Jzhzlk"
      },
      "source": [
        ""
      ],
      "execution_count": null,
      "outputs": []
    },
    {
      "cell_type": "code",
      "metadata": {
        "id": "31r_9iM9hzeZ"
      },
      "source": [
        ""
      ],
      "execution_count": null,
      "outputs": []
    },
    {
      "cell_type": "code",
      "metadata": {
        "id": "fYcdqCZChzVG"
      },
      "source": [
        ""
      ],
      "execution_count": null,
      "outputs": []
    },
    {
      "cell_type": "code",
      "metadata": {
        "id": "fU1doXPMhzMP"
      },
      "source": [
        ""
      ],
      "execution_count": null,
      "outputs": []
    },
    {
      "cell_type": "code",
      "metadata": {
        "id": "FexqhWZDh0cm"
      },
      "source": [
        ""
      ],
      "execution_count": null,
      "outputs": []
    }
  ]
}