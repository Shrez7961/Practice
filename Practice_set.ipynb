{
  "nbformat": 4,
  "nbformat_minor": 0,
  "metadata": {
    "colab": {
      "name": "Practice_set.ipynb",
      "provenance": [],
      "collapsed_sections": [],
      "authorship_tag": "ABX9TyNl5w8vRZ3LNTCO5yyGabNx",
      "include_colab_link": true
    },
    "kernelspec": {
      "name": "python3",
      "display_name": "Python 3"
    },
    "language_info": {
      "name": "python"
    }
  },
  "cells": [
    {
      "cell_type": "markdown",
      "metadata": {
        "id": "view-in-github",
        "colab_type": "text"
      },
      "source": [
        "<a href=\"https://colab.research.google.com/github/Shrez7961/Practice/blob/main/Practice_set.ipynb\" target=\"_parent\"><img src=\"https://colab.research.google.com/assets/colab-badge.svg\" alt=\"Open In Colab\"/></a>"
      ]
    },
    {
      "cell_type": "markdown",
      "source": [
        "# **1) Leap Year Check**\n",
        "\n",
        "An extra day is added to the calendar almost every four years as February 29, and the day is called a leap day. It corrects the calendar for the fact that our planet takes approximately 365.25 days to orbit the sun. A leap year contains a leap day.\n",
        "\n",
        "In the Gregorian calendar, three conditions are used to identify leap years:\n",
        "\n",
        "The year can be evenly divided by 4, is a leap year, unless:\n",
        "The year can be evenly divided by 100, it is NOT a leap year, unless:\n",
        "The year is also evenly divisible by 400. Then it is a leap year.\n",
        "This means that in the Gregorian calendar, the years 2000 and 2400 are leap years, while 1800, 1900, 2100, 2200, 2300 and 2500 are NOT leap years. Source\n",
        "\n",
        "**Task**\n",
        "\n",
        "Given a year, determine whether it is a leap year. If it is a leap year, return the Boolean **True**, otherwise return **False**.\n",
        "\n",
        "\n",
        "**Input Format**\n",
        "\n",
        "Read , the year to test.\n",
        "\n",
        "\n",
        "**Output Format**\n",
        "\n",
        "The function must return a Boolean value (True/False).\n",
        "\n",
        "**Sample Input**\n",
        "\n",
        "1990\n",
        "\n",
        "**Sample Output**\n",
        "\n",
        "False\n",
        "\n",
        "**Explanation**\n",
        "\n",
        "1990 is not a multiple of 4 hence it's not a leap year."
      ],
      "metadata": {
        "id": "eTk1CWXZS2I2"
      }
    },
    {
      "cell_type": "code",
      "source": [
        "def is_leap(year):\n",
        "    leap = False\n",
        "    \n",
        "    # Write your logic here\n",
        "    if year%4==0:\n",
        "        if year%100==0:\n",
        "            if year%400==0:\n",
        "                leap =True\n",
        "            else:\n",
        "                leap = False\n",
        "        else:\n",
        "            leap = True  \n",
        "    else:\n",
        "        leap=False\n",
        "    \n",
        "    return leap"
      ],
      "metadata": {
        "id": "aYhk59GTTtnS"
      },
      "execution_count": null,
      "outputs": []
    },
    {
      "cell_type": "code",
      "source": [
        "is_leap(2020)"
      ],
      "metadata": {
        "colab": {
          "base_uri": "https://localhost:8080/"
        },
        "id": "fYxbpXsgZRQX",
        "outputId": "962f6a34-3898-4d1f-a005-861f4997e039"
      },
      "execution_count": null,
      "outputs": [
        {
          "output_type": "execute_result",
          "data": {
            "text/plain": [
              "True"
            ]
          },
          "metadata": {},
          "execution_count": 22
        }
      ]
    },
    {
      "cell_type": "code",
      "source": [
        "#check with sample inputs\n",
        "List_ = [2000,2012,2043,2023,2022,2021,2020]\n",
        "for yr in List_:\n",
        "  is_leap(yr)\n",
        "  print (f'{yr}')"
      ],
      "metadata": {
        "colab": {
          "base_uri": "https://localhost:8080/"
        },
        "id": "wij5pp3DTx2K",
        "outputId": "d780ddaa-a8f3-4d93-f807-0298bae8ff60"
      },
      "execution_count": null,
      "outputs": [
        {
          "output_type": "stream",
          "name": "stdout",
          "text": [
            "2000 <function is_leap at 0x7fe9b9cc8950>\n",
            "2012 <function is_leap at 0x7fe9b9cc8950>\n",
            "2043 <function is_leap at 0x7fe9b9cc8950>\n",
            "2023 <function is_leap at 0x7fe9b9cc8950>\n",
            "2022 <function is_leap at 0x7fe9b9cc8950>\n",
            "2021 <function is_leap at 0x7fe9b9cc8950>\n",
            "2020 <function is_leap at 0x7fe9b9cc8950>\n"
          ]
        }
      ]
    }
  ]
}