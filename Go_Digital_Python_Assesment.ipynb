{
  "nbformat": 4,
  "nbformat_minor": 0,
  "metadata": {
    "colab": {
      "provenance": [],
      "collapsed_sections": [],
      "mount_file_id": "1wztxm8oTU9FM9kU4u9NdygmzyVR2fqPG",
      "authorship_tag": "ABX9TyMx2zf5ExYe/wt4CWbgmhbF",
      "include_colab_link": true
    },
    "kernelspec": {
      "name": "python3",
      "display_name": "Python 3"
    },
    "language_info": {
      "name": "python"
    }
  },
  "cells": [
    {
      "cell_type": "markdown",
      "metadata": {
        "id": "view-in-github",
        "colab_type": "text"
      },
      "source": [
        "<a href=\"https://colab.research.google.com/github/Shrez7961/Practice/blob/main/Go_Digital_Python_Assesment.ipynb\" target=\"_parent\"><img src=\"https://colab.research.google.com/assets/colab-badge.svg\" alt=\"Open In Colab\"/></a>"
      ]
    },
    {
      "cell_type": "code",
      "source": [
        "import pandas as pd\n",
        "import numpy as np"
      ],
      "metadata": {
        "id": "-POGfJpSjyED"
      },
      "execution_count": 454,
      "outputs": []
    },
    {
      "cell_type": "code",
      "execution_count": 455,
      "metadata": {
        "colab": {
          "base_uri": "https://localhost:8080/",
          "height": 206
        },
        "id": "6HSLI2kGjFAb",
        "outputId": "106f51e2-a390-484a-a7d6-8b066a99b9c3"
      },
      "outputs": [
        {
          "output_type": "execute_result",
          "data": {
            "text/plain": [
              "     AGENT_ID      AGENT_NAME DATE_OF_JOINING          ADDRESS_LINE1  \\\n",
              "0  AGENT00001       Ray Johns      1993-06-05       1402 Maggies Way   \n",
              "1  AGENT00002   Angelo Borjon      2005-12-27         414 Tanya Pass   \n",
              "2  AGENT00003  Candy Spellman      2003-09-02    606 National Street   \n",
              "3  AGENT00004      Mary Smith      2004-09-23  235 Hugh Thomas Drive   \n",
              "4  AGENT00005    Mildred Diaz      2011-06-21  3426 Broadview Street   \n",
              "\n",
              "  ADDRESS_LINE2              CITY STATE  POSTAL_CODE  EMP_ROUTING_NUMBER  \\\n",
              "0           NaN  Waterbury Center    VT         5677            34584958   \n",
              "1           NaN       Panama City    FL        32404           107363763   \n",
              "2          #306      Fayetteville    AR        72701            81744097   \n",
              "3           NaN       Panama City    FL        32404            67563771   \n",
              "4           NaN        Montgomery    AL        36110           114951317   \n",
              "\n",
              "      EMP_ACCT_NUMBER  \n",
              "0  HKUN51252328472585  \n",
              "1  OPIS19290040088204  \n",
              "2  YSCJ67489688482590  \n",
              "3  ZANG21285355574581  \n",
              "4  DZFS82244494451134  "
            ],
            "text/html": [
              "\n",
              "  <div id=\"df-97180ffa-c1b4-4c7b-95ee-2c965064e501\">\n",
              "    <div class=\"colab-df-container\">\n",
              "      <div>\n",
              "<style scoped>\n",
              "    .dataframe tbody tr th:only-of-type {\n",
              "        vertical-align: middle;\n",
              "    }\n",
              "\n",
              "    .dataframe tbody tr th {\n",
              "        vertical-align: top;\n",
              "    }\n",
              "\n",
              "    .dataframe thead th {\n",
              "        text-align: right;\n",
              "    }\n",
              "</style>\n",
              "<table border=\"1\" class=\"dataframe\">\n",
              "  <thead>\n",
              "    <tr style=\"text-align: right;\">\n",
              "      <th></th>\n",
              "      <th>AGENT_ID</th>\n",
              "      <th>AGENT_NAME</th>\n",
              "      <th>DATE_OF_JOINING</th>\n",
              "      <th>ADDRESS_LINE1</th>\n",
              "      <th>ADDRESS_LINE2</th>\n",
              "      <th>CITY</th>\n",
              "      <th>STATE</th>\n",
              "      <th>POSTAL_CODE</th>\n",
              "      <th>EMP_ROUTING_NUMBER</th>\n",
              "      <th>EMP_ACCT_NUMBER</th>\n",
              "    </tr>\n",
              "  </thead>\n",
              "  <tbody>\n",
              "    <tr>\n",
              "      <th>0</th>\n",
              "      <td>AGENT00001</td>\n",
              "      <td>Ray Johns</td>\n",
              "      <td>1993-06-05</td>\n",
              "      <td>1402 Maggies Way</td>\n",
              "      <td>NaN</td>\n",
              "      <td>Waterbury Center</td>\n",
              "      <td>VT</td>\n",
              "      <td>5677</td>\n",
              "      <td>34584958</td>\n",
              "      <td>HKUN51252328472585</td>\n",
              "    </tr>\n",
              "    <tr>\n",
              "      <th>1</th>\n",
              "      <td>AGENT00002</td>\n",
              "      <td>Angelo Borjon</td>\n",
              "      <td>2005-12-27</td>\n",
              "      <td>414 Tanya Pass</td>\n",
              "      <td>NaN</td>\n",
              "      <td>Panama City</td>\n",
              "      <td>FL</td>\n",
              "      <td>32404</td>\n",
              "      <td>107363763</td>\n",
              "      <td>OPIS19290040088204</td>\n",
              "    </tr>\n",
              "    <tr>\n",
              "      <th>2</th>\n",
              "      <td>AGENT00003</td>\n",
              "      <td>Candy Spellman</td>\n",
              "      <td>2003-09-02</td>\n",
              "      <td>606 National Street</td>\n",
              "      <td>#306</td>\n",
              "      <td>Fayetteville</td>\n",
              "      <td>AR</td>\n",
              "      <td>72701</td>\n",
              "      <td>81744097</td>\n",
              "      <td>YSCJ67489688482590</td>\n",
              "    </tr>\n",
              "    <tr>\n",
              "      <th>3</th>\n",
              "      <td>AGENT00004</td>\n",
              "      <td>Mary Smith</td>\n",
              "      <td>2004-09-23</td>\n",
              "      <td>235 Hugh Thomas Drive</td>\n",
              "      <td>NaN</td>\n",
              "      <td>Panama City</td>\n",
              "      <td>FL</td>\n",
              "      <td>32404</td>\n",
              "      <td>67563771</td>\n",
              "      <td>ZANG21285355574581</td>\n",
              "    </tr>\n",
              "    <tr>\n",
              "      <th>4</th>\n",
              "      <td>AGENT00005</td>\n",
              "      <td>Mildred Diaz</td>\n",
              "      <td>2011-06-21</td>\n",
              "      <td>3426 Broadview Street</td>\n",
              "      <td>NaN</td>\n",
              "      <td>Montgomery</td>\n",
              "      <td>AL</td>\n",
              "      <td>36110</td>\n",
              "      <td>114951317</td>\n",
              "      <td>DZFS82244494451134</td>\n",
              "    </tr>\n",
              "  </tbody>\n",
              "</table>\n",
              "</div>\n",
              "      <button class=\"colab-df-convert\" onclick=\"convertToInteractive('df-97180ffa-c1b4-4c7b-95ee-2c965064e501')\"\n",
              "              title=\"Convert this dataframe to an interactive table.\"\n",
              "              style=\"display:none;\">\n",
              "        \n",
              "  <svg xmlns=\"http://www.w3.org/2000/svg\" height=\"24px\"viewBox=\"0 0 24 24\"\n",
              "       width=\"24px\">\n",
              "    <path d=\"M0 0h24v24H0V0z\" fill=\"none\"/>\n",
              "    <path d=\"M18.56 5.44l.94 2.06.94-2.06 2.06-.94-2.06-.94-.94-2.06-.94 2.06-2.06.94zm-11 1L8.5 8.5l.94-2.06 2.06-.94-2.06-.94L8.5 2.5l-.94 2.06-2.06.94zm10 10l.94 2.06.94-2.06 2.06-.94-2.06-.94-.94-2.06-.94 2.06-2.06.94z\"/><path d=\"M17.41 7.96l-1.37-1.37c-.4-.4-.92-.59-1.43-.59-.52 0-1.04.2-1.43.59L10.3 9.45l-7.72 7.72c-.78.78-.78 2.05 0 2.83L4 21.41c.39.39.9.59 1.41.59.51 0 1.02-.2 1.41-.59l7.78-7.78 2.81-2.81c.8-.78.8-2.07 0-2.86zM5.41 20L4 18.59l7.72-7.72 1.47 1.35L5.41 20z\"/>\n",
              "  </svg>\n",
              "      </button>\n",
              "      \n",
              "  <style>\n",
              "    .colab-df-container {\n",
              "      display:flex;\n",
              "      flex-wrap:wrap;\n",
              "      gap: 12px;\n",
              "    }\n",
              "\n",
              "    .colab-df-convert {\n",
              "      background-color: #E8F0FE;\n",
              "      border: none;\n",
              "      border-radius: 50%;\n",
              "      cursor: pointer;\n",
              "      display: none;\n",
              "      fill: #1967D2;\n",
              "      height: 32px;\n",
              "      padding: 0 0 0 0;\n",
              "      width: 32px;\n",
              "    }\n",
              "\n",
              "    .colab-df-convert:hover {\n",
              "      background-color: #E2EBFA;\n",
              "      box-shadow: 0px 1px 2px rgba(60, 64, 67, 0.3), 0px 1px 3px 1px rgba(60, 64, 67, 0.15);\n",
              "      fill: #174EA6;\n",
              "    }\n",
              "\n",
              "    [theme=dark] .colab-df-convert {\n",
              "      background-color: #3B4455;\n",
              "      fill: #D2E3FC;\n",
              "    }\n",
              "\n",
              "    [theme=dark] .colab-df-convert:hover {\n",
              "      background-color: #434B5C;\n",
              "      box-shadow: 0px 1px 3px 1px rgba(0, 0, 0, 0.15);\n",
              "      filter: drop-shadow(0px 1px 2px rgba(0, 0, 0, 0.3));\n",
              "      fill: #FFFFFF;\n",
              "    }\n",
              "  </style>\n",
              "\n",
              "      <script>\n",
              "        const buttonEl =\n",
              "          document.querySelector('#df-97180ffa-c1b4-4c7b-95ee-2c965064e501 button.colab-df-convert');\n",
              "        buttonEl.style.display =\n",
              "          google.colab.kernel.accessAllowed ? 'block' : 'none';\n",
              "\n",
              "        async function convertToInteractive(key) {\n",
              "          const element = document.querySelector('#df-97180ffa-c1b4-4c7b-95ee-2c965064e501');\n",
              "          const dataTable =\n",
              "            await google.colab.kernel.invokeFunction('convertToInteractive',\n",
              "                                                     [key], {});\n",
              "          if (!dataTable) return;\n",
              "\n",
              "          const docLinkHtml = 'Like what you see? Visit the ' +\n",
              "            '<a target=\"_blank\" href=https://colab.research.google.com/notebooks/data_table.ipynb>data table notebook</a>'\n",
              "            + ' to learn more about interactive tables.';\n",
              "          element.innerHTML = '';\n",
              "          dataTable['output_type'] = 'display_data';\n",
              "          await google.colab.output.renderOutput(dataTable, element);\n",
              "          const docLink = document.createElement('div');\n",
              "          docLink.innerHTML = docLinkHtml;\n",
              "          element.appendChild(docLink);\n",
              "        }\n",
              "      </script>\n",
              "    </div>\n",
              "  </div>\n",
              "  "
            ]
          },
          "metadata": {},
          "execution_count": 455
        }
      ],
      "source": [
        "#Creating DataFrame for employee data\n",
        "emp_df = pd.read_csv('/content/drive/MyDrive/Colab Notebooks/Go Digital Assesment/employee_data.csv')\n",
        "emp_df.head()"
      ]
    },
    {
      "cell_type": "code",
      "source": [
        "emp_df.shape"
      ],
      "metadata": {
        "colab": {
          "base_uri": "https://localhost:8080/"
        },
        "id": "QDckWMojmXcF",
        "outputId": "9674d271-dc92-4902-8fa4-42e25fc2e4b3"
      },
      "execution_count": 456,
      "outputs": [
        {
          "output_type": "execute_result",
          "data": {
            "text/plain": [
              "(1200, 10)"
            ]
          },
          "metadata": {},
          "execution_count": 456
        }
      ]
    },
    {
      "cell_type": "code",
      "source": [
        "#Creating DataFrame for insurance claims data\n",
        "ins_df = pd.read_csv('/content/drive/MyDrive/Colab Notebooks/Go Digital Assesment/insurance_data.csv')\n",
        "ins_df.head()"
      ],
      "metadata": {
        "colab": {
          "base_uri": "https://localhost:8080/",
          "height": 386
        },
        "id": "U221I5Rcj4MD",
        "outputId": "50e34ef7-80b9-4f80-c1e8-8f69ea110189"
      },
      "execution_count": 457,
      "outputs": [
        {
          "output_type": "execute_result",
          "data": {
            "text/plain": [
              "         TXN_DATE_TIME TRANSACTION_ID CUSTOMER_ID POLICY_NUMBER POLICY_EFF_DT  \\\n",
              "0  2020-06-01 00:00:00    TXN00000001   A00003822   PLC00008468    2015-06-23   \n",
              "1  2020-06-01 00:00:00    TXN00000002   A00008149   PLC00009594    2018-04-21   \n",
              "2  2020-06-01 00:00:00    TXN00000003   A00003172   PLC00007969    2019-10-03   \n",
              "3  2020-06-01 00:00:00    TXN00000004   A00007572   PLC00009292    2016-11-29   \n",
              "4  2020-06-01 00:00:00    TXN00000005   A00008173   PLC00000204    2011-12-26   \n",
              "\n",
              "      LOSS_DT   REPORT_DT INSURANCE_TYPE  PREMIUM_AMOUNT  CLAIM_AMOUNT  ...  \\\n",
              "0  2020-05-16  2020-05-21         Health          157.13          9000  ...   \n",
              "1  2020-05-13  2020-05-18       Property          141.71         26000  ...   \n",
              "2  2020-05-21  2020-05-26       Property          157.24         13000  ...   \n",
              "3  2020-05-14  2020-05-19         Health          172.87         16000  ...   \n",
              "4  2020-05-17  2020-05-22         Travel           88.53          3000  ...   \n",
              "\n",
              "  CLAIM_STATUS INCIDENT_SEVERITY AUTHORITY_CONTACTED ANY_INJURY  \\\n",
              "0            A        Major Loss              Police          0   \n",
              "1            A        Total Loss           Ambulance          1   \n",
              "2            A        Total Loss              Police          0   \n",
              "3            A        Minor Loss           Ambulance          0   \n",
              "4            A        Major Loss              Police          0   \n",
              "\n",
              "  POLICE_REPORT_AVAILABLE  INCIDENT_STATE   INCIDENT_CITY  \\\n",
              "0                       1              GA        Savannah   \n",
              "1                       0              AL      Montgomery   \n",
              "2                       1              CO  Grand Junction   \n",
              "3                       0              GA        Savannah   \n",
              "4                       1              TN       Nashville   \n",
              "\n",
              "  INCIDENT_HOUR_OF_THE_DAY    AGENT_ID  VENDOR_ID  \n",
              "0                        4  AGENT00413  VNDR00556  \n",
              "1                        0  AGENT00769  VNDR00592  \n",
              "2                       19  AGENT00883  VNDR00031  \n",
              "3                       12  AGENT00278  VNDR00075  \n",
              "4                       18  AGENT00636  VNDR00472  \n",
              "\n",
              "[5 rows x 38 columns]"
            ],
            "text/html": [
              "\n",
              "  <div id=\"df-3d35b847-c95e-4105-8b7a-57bd7c0b70e1\">\n",
              "    <div class=\"colab-df-container\">\n",
              "      <div>\n",
              "<style scoped>\n",
              "    .dataframe tbody tr th:only-of-type {\n",
              "        vertical-align: middle;\n",
              "    }\n",
              "\n",
              "    .dataframe tbody tr th {\n",
              "        vertical-align: top;\n",
              "    }\n",
              "\n",
              "    .dataframe thead th {\n",
              "        text-align: right;\n",
              "    }\n",
              "</style>\n",
              "<table border=\"1\" class=\"dataframe\">\n",
              "  <thead>\n",
              "    <tr style=\"text-align: right;\">\n",
              "      <th></th>\n",
              "      <th>TXN_DATE_TIME</th>\n",
              "      <th>TRANSACTION_ID</th>\n",
              "      <th>CUSTOMER_ID</th>\n",
              "      <th>POLICY_NUMBER</th>\n",
              "      <th>POLICY_EFF_DT</th>\n",
              "      <th>LOSS_DT</th>\n",
              "      <th>REPORT_DT</th>\n",
              "      <th>INSURANCE_TYPE</th>\n",
              "      <th>PREMIUM_AMOUNT</th>\n",
              "      <th>CLAIM_AMOUNT</th>\n",
              "      <th>...</th>\n",
              "      <th>CLAIM_STATUS</th>\n",
              "      <th>INCIDENT_SEVERITY</th>\n",
              "      <th>AUTHORITY_CONTACTED</th>\n",
              "      <th>ANY_INJURY</th>\n",
              "      <th>POLICE_REPORT_AVAILABLE</th>\n",
              "      <th>INCIDENT_STATE</th>\n",
              "      <th>INCIDENT_CITY</th>\n",
              "      <th>INCIDENT_HOUR_OF_THE_DAY</th>\n",
              "      <th>AGENT_ID</th>\n",
              "      <th>VENDOR_ID</th>\n",
              "    </tr>\n",
              "  </thead>\n",
              "  <tbody>\n",
              "    <tr>\n",
              "      <th>0</th>\n",
              "      <td>2020-06-01 00:00:00</td>\n",
              "      <td>TXN00000001</td>\n",
              "      <td>A00003822</td>\n",
              "      <td>PLC00008468</td>\n",
              "      <td>2015-06-23</td>\n",
              "      <td>2020-05-16</td>\n",
              "      <td>2020-05-21</td>\n",
              "      <td>Health</td>\n",
              "      <td>157.13</td>\n",
              "      <td>9000</td>\n",
              "      <td>...</td>\n",
              "      <td>A</td>\n",
              "      <td>Major Loss</td>\n",
              "      <td>Police</td>\n",
              "      <td>0</td>\n",
              "      <td>1</td>\n",
              "      <td>GA</td>\n",
              "      <td>Savannah</td>\n",
              "      <td>4</td>\n",
              "      <td>AGENT00413</td>\n",
              "      <td>VNDR00556</td>\n",
              "    </tr>\n",
              "    <tr>\n",
              "      <th>1</th>\n",
              "      <td>2020-06-01 00:00:00</td>\n",
              "      <td>TXN00000002</td>\n",
              "      <td>A00008149</td>\n",
              "      <td>PLC00009594</td>\n",
              "      <td>2018-04-21</td>\n",
              "      <td>2020-05-13</td>\n",
              "      <td>2020-05-18</td>\n",
              "      <td>Property</td>\n",
              "      <td>141.71</td>\n",
              "      <td>26000</td>\n",
              "      <td>...</td>\n",
              "      <td>A</td>\n",
              "      <td>Total Loss</td>\n",
              "      <td>Ambulance</td>\n",
              "      <td>1</td>\n",
              "      <td>0</td>\n",
              "      <td>AL</td>\n",
              "      <td>Montgomery</td>\n",
              "      <td>0</td>\n",
              "      <td>AGENT00769</td>\n",
              "      <td>VNDR00592</td>\n",
              "    </tr>\n",
              "    <tr>\n",
              "      <th>2</th>\n",
              "      <td>2020-06-01 00:00:00</td>\n",
              "      <td>TXN00000003</td>\n",
              "      <td>A00003172</td>\n",
              "      <td>PLC00007969</td>\n",
              "      <td>2019-10-03</td>\n",
              "      <td>2020-05-21</td>\n",
              "      <td>2020-05-26</td>\n",
              "      <td>Property</td>\n",
              "      <td>157.24</td>\n",
              "      <td>13000</td>\n",
              "      <td>...</td>\n",
              "      <td>A</td>\n",
              "      <td>Total Loss</td>\n",
              "      <td>Police</td>\n",
              "      <td>0</td>\n",
              "      <td>1</td>\n",
              "      <td>CO</td>\n",
              "      <td>Grand Junction</td>\n",
              "      <td>19</td>\n",
              "      <td>AGENT00883</td>\n",
              "      <td>VNDR00031</td>\n",
              "    </tr>\n",
              "    <tr>\n",
              "      <th>3</th>\n",
              "      <td>2020-06-01 00:00:00</td>\n",
              "      <td>TXN00000004</td>\n",
              "      <td>A00007572</td>\n",
              "      <td>PLC00009292</td>\n",
              "      <td>2016-11-29</td>\n",
              "      <td>2020-05-14</td>\n",
              "      <td>2020-05-19</td>\n",
              "      <td>Health</td>\n",
              "      <td>172.87</td>\n",
              "      <td>16000</td>\n",
              "      <td>...</td>\n",
              "      <td>A</td>\n",
              "      <td>Minor Loss</td>\n",
              "      <td>Ambulance</td>\n",
              "      <td>0</td>\n",
              "      <td>0</td>\n",
              "      <td>GA</td>\n",
              "      <td>Savannah</td>\n",
              "      <td>12</td>\n",
              "      <td>AGENT00278</td>\n",
              "      <td>VNDR00075</td>\n",
              "    </tr>\n",
              "    <tr>\n",
              "      <th>4</th>\n",
              "      <td>2020-06-01 00:00:00</td>\n",
              "      <td>TXN00000005</td>\n",
              "      <td>A00008173</td>\n",
              "      <td>PLC00000204</td>\n",
              "      <td>2011-12-26</td>\n",
              "      <td>2020-05-17</td>\n",
              "      <td>2020-05-22</td>\n",
              "      <td>Travel</td>\n",
              "      <td>88.53</td>\n",
              "      <td>3000</td>\n",
              "      <td>...</td>\n",
              "      <td>A</td>\n",
              "      <td>Major Loss</td>\n",
              "      <td>Police</td>\n",
              "      <td>0</td>\n",
              "      <td>1</td>\n",
              "      <td>TN</td>\n",
              "      <td>Nashville</td>\n",
              "      <td>18</td>\n",
              "      <td>AGENT00636</td>\n",
              "      <td>VNDR00472</td>\n",
              "    </tr>\n",
              "  </tbody>\n",
              "</table>\n",
              "<p>5 rows × 38 columns</p>\n",
              "</div>\n",
              "      <button class=\"colab-df-convert\" onclick=\"convertToInteractive('df-3d35b847-c95e-4105-8b7a-57bd7c0b70e1')\"\n",
              "              title=\"Convert this dataframe to an interactive table.\"\n",
              "              style=\"display:none;\">\n",
              "        \n",
              "  <svg xmlns=\"http://www.w3.org/2000/svg\" height=\"24px\"viewBox=\"0 0 24 24\"\n",
              "       width=\"24px\">\n",
              "    <path d=\"M0 0h24v24H0V0z\" fill=\"none\"/>\n",
              "    <path d=\"M18.56 5.44l.94 2.06.94-2.06 2.06-.94-2.06-.94-.94-2.06-.94 2.06-2.06.94zm-11 1L8.5 8.5l.94-2.06 2.06-.94-2.06-.94L8.5 2.5l-.94 2.06-2.06.94zm10 10l.94 2.06.94-2.06 2.06-.94-2.06-.94-.94-2.06-.94 2.06-2.06.94z\"/><path d=\"M17.41 7.96l-1.37-1.37c-.4-.4-.92-.59-1.43-.59-.52 0-1.04.2-1.43.59L10.3 9.45l-7.72 7.72c-.78.78-.78 2.05 0 2.83L4 21.41c.39.39.9.59 1.41.59.51 0 1.02-.2 1.41-.59l7.78-7.78 2.81-2.81c.8-.78.8-2.07 0-2.86zM5.41 20L4 18.59l7.72-7.72 1.47 1.35L5.41 20z\"/>\n",
              "  </svg>\n",
              "      </button>\n",
              "      \n",
              "  <style>\n",
              "    .colab-df-container {\n",
              "      display:flex;\n",
              "      flex-wrap:wrap;\n",
              "      gap: 12px;\n",
              "    }\n",
              "\n",
              "    .colab-df-convert {\n",
              "      background-color: #E8F0FE;\n",
              "      border: none;\n",
              "      border-radius: 50%;\n",
              "      cursor: pointer;\n",
              "      display: none;\n",
              "      fill: #1967D2;\n",
              "      height: 32px;\n",
              "      padding: 0 0 0 0;\n",
              "      width: 32px;\n",
              "    }\n",
              "\n",
              "    .colab-df-convert:hover {\n",
              "      background-color: #E2EBFA;\n",
              "      box-shadow: 0px 1px 2px rgba(60, 64, 67, 0.3), 0px 1px 3px 1px rgba(60, 64, 67, 0.15);\n",
              "      fill: #174EA6;\n",
              "    }\n",
              "\n",
              "    [theme=dark] .colab-df-convert {\n",
              "      background-color: #3B4455;\n",
              "      fill: #D2E3FC;\n",
              "    }\n",
              "\n",
              "    [theme=dark] .colab-df-convert:hover {\n",
              "      background-color: #434B5C;\n",
              "      box-shadow: 0px 1px 3px 1px rgba(0, 0, 0, 0.15);\n",
              "      filter: drop-shadow(0px 1px 2px rgba(0, 0, 0, 0.3));\n",
              "      fill: #FFFFFF;\n",
              "    }\n",
              "  </style>\n",
              "\n",
              "      <script>\n",
              "        const buttonEl =\n",
              "          document.querySelector('#df-3d35b847-c95e-4105-8b7a-57bd7c0b70e1 button.colab-df-convert');\n",
              "        buttonEl.style.display =\n",
              "          google.colab.kernel.accessAllowed ? 'block' : 'none';\n",
              "\n",
              "        async function convertToInteractive(key) {\n",
              "          const element = document.querySelector('#df-3d35b847-c95e-4105-8b7a-57bd7c0b70e1');\n",
              "          const dataTable =\n",
              "            await google.colab.kernel.invokeFunction('convertToInteractive',\n",
              "                                                     [key], {});\n",
              "          if (!dataTable) return;\n",
              "\n",
              "          const docLinkHtml = 'Like what you see? Visit the ' +\n",
              "            '<a target=\"_blank\" href=https://colab.research.google.com/notebooks/data_table.ipynb>data table notebook</a>'\n",
              "            + ' to learn more about interactive tables.';\n",
              "          element.innerHTML = '';\n",
              "          dataTable['output_type'] = 'display_data';\n",
              "          await google.colab.output.renderOutput(dataTable, element);\n",
              "          const docLink = document.createElement('div');\n",
              "          docLink.innerHTML = docLinkHtml;\n",
              "          element.appendChild(docLink);\n",
              "        }\n",
              "      </script>\n",
              "    </div>\n",
              "  </div>\n",
              "  "
            ]
          },
          "metadata": {},
          "execution_count": 457
        }
      ]
    },
    {
      "cell_type": "code",
      "source": [
        "ins_df.shape"
      ],
      "metadata": {
        "colab": {
          "base_uri": "https://localhost:8080/"
        },
        "id": "ZMyYtrrlmdof",
        "outputId": "0d5da388-457d-4c59-cdd5-4e28c840e5a6"
      },
      "execution_count": 458,
      "outputs": [
        {
          "output_type": "execute_result",
          "data": {
            "text/plain": [
              "(10000, 38)"
            ]
          },
          "metadata": {},
          "execution_count": 458
        }
      ]
    },
    {
      "cell_type": "code",
      "source": [
        "#Creating DataFrame for vendors data\n",
        "vend_df = pd.read_csv('/content/drive/MyDrive/Colab Notebooks/Go Digital Assesment/vendor_data.csv')\n",
        "vend_df.head()"
      ],
      "metadata": {
        "colab": {
          "base_uri": "https://localhost:8080/",
          "height": 206
        },
        "id": "v_UhDrp3kBgl",
        "outputId": "15c9af4b-a386-4477-963a-3ddc9f1a0ad0"
      },
      "execution_count": 459,
      "outputs": [
        {
          "output_type": "execute_result",
          "data": {
            "text/plain": [
              "   VENDOR_ID              VENDOR_NAME                   ADDRESS_LINE1  \\\n",
              "0  VNDR00001  King, Proctor and Jones        2027 North Shannon Drive   \n",
              "1  VNDR00002               Garcia Ltd          5701 East Shirley Lane   \n",
              "2  VNDR00003               Cherry LLC            1217 Cottondale Road   \n",
              "3  VNDR00004              Mays-Benson  227 West Montgomery Cross Road   \n",
              "4  VNDR00005               Wilson PLC            23 North Hill Street   \n",
              "\n",
              "  ADDRESS_LINE2          CITY STATE  POSTAL_CODE  \n",
              "0            #5  Fayetteville    AR        72703  \n",
              "1           NaN    Montgomery    AL        36117  \n",
              "2           NaN    Montgomery    AL        36109  \n",
              "3          #736      Savannah    GA        31406  \n",
              "4           NaN     Nashville    TN        37210  "
            ],
            "text/html": [
              "\n",
              "  <div id=\"df-eb209fbb-7107-4004-b55b-467fe8bb772e\">\n",
              "    <div class=\"colab-df-container\">\n",
              "      <div>\n",
              "<style scoped>\n",
              "    .dataframe tbody tr th:only-of-type {\n",
              "        vertical-align: middle;\n",
              "    }\n",
              "\n",
              "    .dataframe tbody tr th {\n",
              "        vertical-align: top;\n",
              "    }\n",
              "\n",
              "    .dataframe thead th {\n",
              "        text-align: right;\n",
              "    }\n",
              "</style>\n",
              "<table border=\"1\" class=\"dataframe\">\n",
              "  <thead>\n",
              "    <tr style=\"text-align: right;\">\n",
              "      <th></th>\n",
              "      <th>VENDOR_ID</th>\n",
              "      <th>VENDOR_NAME</th>\n",
              "      <th>ADDRESS_LINE1</th>\n",
              "      <th>ADDRESS_LINE2</th>\n",
              "      <th>CITY</th>\n",
              "      <th>STATE</th>\n",
              "      <th>POSTAL_CODE</th>\n",
              "    </tr>\n",
              "  </thead>\n",
              "  <tbody>\n",
              "    <tr>\n",
              "      <th>0</th>\n",
              "      <td>VNDR00001</td>\n",
              "      <td>King, Proctor and Jones</td>\n",
              "      <td>2027 North Shannon Drive</td>\n",
              "      <td>#5</td>\n",
              "      <td>Fayetteville</td>\n",
              "      <td>AR</td>\n",
              "      <td>72703</td>\n",
              "    </tr>\n",
              "    <tr>\n",
              "      <th>1</th>\n",
              "      <td>VNDR00002</td>\n",
              "      <td>Garcia Ltd</td>\n",
              "      <td>5701 East Shirley Lane</td>\n",
              "      <td>NaN</td>\n",
              "      <td>Montgomery</td>\n",
              "      <td>AL</td>\n",
              "      <td>36117</td>\n",
              "    </tr>\n",
              "    <tr>\n",
              "      <th>2</th>\n",
              "      <td>VNDR00003</td>\n",
              "      <td>Cherry LLC</td>\n",
              "      <td>1217 Cottondale Road</td>\n",
              "      <td>NaN</td>\n",
              "      <td>Montgomery</td>\n",
              "      <td>AL</td>\n",
              "      <td>36109</td>\n",
              "    </tr>\n",
              "    <tr>\n",
              "      <th>3</th>\n",
              "      <td>VNDR00004</td>\n",
              "      <td>Mays-Benson</td>\n",
              "      <td>227 West Montgomery Cross Road</td>\n",
              "      <td>#736</td>\n",
              "      <td>Savannah</td>\n",
              "      <td>GA</td>\n",
              "      <td>31406</td>\n",
              "    </tr>\n",
              "    <tr>\n",
              "      <th>4</th>\n",
              "      <td>VNDR00005</td>\n",
              "      <td>Wilson PLC</td>\n",
              "      <td>23 North Hill Street</td>\n",
              "      <td>NaN</td>\n",
              "      <td>Nashville</td>\n",
              "      <td>TN</td>\n",
              "      <td>37210</td>\n",
              "    </tr>\n",
              "  </tbody>\n",
              "</table>\n",
              "</div>\n",
              "      <button class=\"colab-df-convert\" onclick=\"convertToInteractive('df-eb209fbb-7107-4004-b55b-467fe8bb772e')\"\n",
              "              title=\"Convert this dataframe to an interactive table.\"\n",
              "              style=\"display:none;\">\n",
              "        \n",
              "  <svg xmlns=\"http://www.w3.org/2000/svg\" height=\"24px\"viewBox=\"0 0 24 24\"\n",
              "       width=\"24px\">\n",
              "    <path d=\"M0 0h24v24H0V0z\" fill=\"none\"/>\n",
              "    <path d=\"M18.56 5.44l.94 2.06.94-2.06 2.06-.94-2.06-.94-.94-2.06-.94 2.06-2.06.94zm-11 1L8.5 8.5l.94-2.06 2.06-.94-2.06-.94L8.5 2.5l-.94 2.06-2.06.94zm10 10l.94 2.06.94-2.06 2.06-.94-2.06-.94-.94-2.06-.94 2.06-2.06.94z\"/><path d=\"M17.41 7.96l-1.37-1.37c-.4-.4-.92-.59-1.43-.59-.52 0-1.04.2-1.43.59L10.3 9.45l-7.72 7.72c-.78.78-.78 2.05 0 2.83L4 21.41c.39.39.9.59 1.41.59.51 0 1.02-.2 1.41-.59l7.78-7.78 2.81-2.81c.8-.78.8-2.07 0-2.86zM5.41 20L4 18.59l7.72-7.72 1.47 1.35L5.41 20z\"/>\n",
              "  </svg>\n",
              "      </button>\n",
              "      \n",
              "  <style>\n",
              "    .colab-df-container {\n",
              "      display:flex;\n",
              "      flex-wrap:wrap;\n",
              "      gap: 12px;\n",
              "    }\n",
              "\n",
              "    .colab-df-convert {\n",
              "      background-color: #E8F0FE;\n",
              "      border: none;\n",
              "      border-radius: 50%;\n",
              "      cursor: pointer;\n",
              "      display: none;\n",
              "      fill: #1967D2;\n",
              "      height: 32px;\n",
              "      padding: 0 0 0 0;\n",
              "      width: 32px;\n",
              "    }\n",
              "\n",
              "    .colab-df-convert:hover {\n",
              "      background-color: #E2EBFA;\n",
              "      box-shadow: 0px 1px 2px rgba(60, 64, 67, 0.3), 0px 1px 3px 1px rgba(60, 64, 67, 0.15);\n",
              "      fill: #174EA6;\n",
              "    }\n",
              "\n",
              "    [theme=dark] .colab-df-convert {\n",
              "      background-color: #3B4455;\n",
              "      fill: #D2E3FC;\n",
              "    }\n",
              "\n",
              "    [theme=dark] .colab-df-convert:hover {\n",
              "      background-color: #434B5C;\n",
              "      box-shadow: 0px 1px 3px 1px rgba(0, 0, 0, 0.15);\n",
              "      filter: drop-shadow(0px 1px 2px rgba(0, 0, 0, 0.3));\n",
              "      fill: #FFFFFF;\n",
              "    }\n",
              "  </style>\n",
              "\n",
              "      <script>\n",
              "        const buttonEl =\n",
              "          document.querySelector('#df-eb209fbb-7107-4004-b55b-467fe8bb772e button.colab-df-convert');\n",
              "        buttonEl.style.display =\n",
              "          google.colab.kernel.accessAllowed ? 'block' : 'none';\n",
              "\n",
              "        async function convertToInteractive(key) {\n",
              "          const element = document.querySelector('#df-eb209fbb-7107-4004-b55b-467fe8bb772e');\n",
              "          const dataTable =\n",
              "            await google.colab.kernel.invokeFunction('convertToInteractive',\n",
              "                                                     [key], {});\n",
              "          if (!dataTable) return;\n",
              "\n",
              "          const docLinkHtml = 'Like what you see? Visit the ' +\n",
              "            '<a target=\"_blank\" href=https://colab.research.google.com/notebooks/data_table.ipynb>data table notebook</a>'\n",
              "            + ' to learn more about interactive tables.';\n",
              "          element.innerHTML = '';\n",
              "          dataTable['output_type'] = 'display_data';\n",
              "          await google.colab.output.renderOutput(dataTable, element);\n",
              "          const docLink = document.createElement('div');\n",
              "          docLink.innerHTML = docLinkHtml;\n",
              "          element.appendChild(docLink);\n",
              "        }\n",
              "      </script>\n",
              "    </div>\n",
              "  </div>\n",
              "  "
            ]
          },
          "metadata": {},
          "execution_count": 459
        }
      ]
    },
    {
      "cell_type": "code",
      "source": [
        "vend_df.shape"
      ],
      "metadata": {
        "colab": {
          "base_uri": "https://localhost:8080/"
        },
        "id": "9l5Ljs3cmiXl",
        "outputId": "3285500b-5756-41ed-ca3f-e7e8054a59d4"
      },
      "execution_count": 460,
      "outputs": [
        {
          "output_type": "execute_result",
          "data": {
            "text/plain": [
              "(600, 7)"
            ]
          },
          "metadata": {},
          "execution_count": 460
        }
      ]
    },
    {
      "cell_type": "markdown",
      "source": [
        "So we have imported all the data set and created a data frame from that. Now we are ready to wrangle the data and process some usefull outcomes."
      ],
      "metadata": {
        "id": "tX9kAjaykPlQ"
      }
    },
    {
      "cell_type": "markdown",
      "source": [
        "# **Task # 1**\n",
        "Merge the 3 dataset and create 1 view of data.\n",
        "\n",
        "You can merge insurance_data.csv and employee_data.csv on\n",
        "AGENT_ID \n",
        "\n",
        "You can merge insurance_data.csv and vendor_data.csv on\n",
        "VENDOR_ID \n",
        "\n",
        "Note: Use left Outer join as not all claims require Vendor\n"
      ],
      "metadata": {
        "id": "ACpcUHmOkgkD"
      }
    },
    {
      "cell_type": "code",
      "source": [
        "# Merging 2 dataset firs employee and insurance \n",
        "df1= emp_df.merge(ins_df, on = 'AGENT_ID',how='left')\n",
        "df1.head()"
      ],
      "metadata": {
        "colab": {
          "base_uri": "https://localhost:8080/",
          "height": 386
        },
        "id": "UnWgFjWMkMkL",
        "outputId": "c025f94e-4347-4a89-ae23-c5ccb2f61ee2"
      },
      "execution_count": 461,
      "outputs": [
        {
          "output_type": "execute_result",
          "data": {
            "text/plain": [
              "     AGENT_ID AGENT_NAME DATE_OF_JOINING   ADDRESS_LINE1_x ADDRESS_LINE2_x  \\\n",
              "0  AGENT00001  Ray Johns      1993-06-05  1402 Maggies Way             NaN   \n",
              "1  AGENT00001  Ray Johns      1993-06-05  1402 Maggies Way             NaN   \n",
              "2  AGENT00001  Ray Johns      1993-06-05  1402 Maggies Way             NaN   \n",
              "3  AGENT00001  Ray Johns      1993-06-05  1402 Maggies Way             NaN   \n",
              "4  AGENT00001  Ray Johns      1993-06-05  1402 Maggies Way             NaN   \n",
              "\n",
              "             CITY_x STATE_x  POSTAL_CODE_x  EMP_ROUTING_NUMBER  \\\n",
              "0  Waterbury Center      VT           5677            34584958   \n",
              "1  Waterbury Center      VT           5677            34584958   \n",
              "2  Waterbury Center      VT           5677            34584958   \n",
              "3  Waterbury Center      VT           5677            34584958   \n",
              "4  Waterbury Center      VT           5677            34584958   \n",
              "\n",
              "      EMP_ACCT_NUMBER  ... CUSTOMER_EDUCATION_LEVEL CLAIM_STATUS  \\\n",
              "0  HKUN51252328472585  ...                  College            A   \n",
              "1  HKUN51252328472585  ...                 Bachelor            A   \n",
              "2  HKUN51252328472585  ...                 Bachelor            A   \n",
              "3  HKUN51252328472585  ...                  Masters            A   \n",
              "4  HKUN51252328472585  ...                 Bachelor            A   \n",
              "\n",
              "  INCIDENT_SEVERITY AUTHORITY_CONTACTED ANY_INJURY POLICE_REPORT_AVAILABLE  \\\n",
              "0        Minor Loss                None          0                       1   \n",
              "1        Total Loss           Ambulance          0                       1   \n",
              "2        Major Loss                None          1                       1   \n",
              "3        Total Loss           Ambulance          1                       1   \n",
              "4        Minor Loss              Police          1                       1   \n",
              "\n",
              "  INCIDENT_STATE  INCIDENT_CITY  INCIDENT_HOUR_OF_THE_DAY  VENDOR_ID  \n",
              "0             FL     Lynn Haven                         4  VNDR00394  \n",
              "1             MD    Glen Burnie                         5  VNDR00222  \n",
              "2             MD         Arnold                         6  VNDR00440  \n",
              "3             AR   Fayetteville                        18  VNDR00267  \n",
              "4             OK  Oklahoma City                        18        NaN  \n",
              "\n",
              "[5 rows x 47 columns]"
            ],
            "text/html": [
              "\n",
              "  <div id=\"df-a016ef22-e0e4-4feb-b966-7ea356a033e0\">\n",
              "    <div class=\"colab-df-container\">\n",
              "      <div>\n",
              "<style scoped>\n",
              "    .dataframe tbody tr th:only-of-type {\n",
              "        vertical-align: middle;\n",
              "    }\n",
              "\n",
              "    .dataframe tbody tr th {\n",
              "        vertical-align: top;\n",
              "    }\n",
              "\n",
              "    .dataframe thead th {\n",
              "        text-align: right;\n",
              "    }\n",
              "</style>\n",
              "<table border=\"1\" class=\"dataframe\">\n",
              "  <thead>\n",
              "    <tr style=\"text-align: right;\">\n",
              "      <th></th>\n",
              "      <th>AGENT_ID</th>\n",
              "      <th>AGENT_NAME</th>\n",
              "      <th>DATE_OF_JOINING</th>\n",
              "      <th>ADDRESS_LINE1_x</th>\n",
              "      <th>ADDRESS_LINE2_x</th>\n",
              "      <th>CITY_x</th>\n",
              "      <th>STATE_x</th>\n",
              "      <th>POSTAL_CODE_x</th>\n",
              "      <th>EMP_ROUTING_NUMBER</th>\n",
              "      <th>EMP_ACCT_NUMBER</th>\n",
              "      <th>...</th>\n",
              "      <th>CUSTOMER_EDUCATION_LEVEL</th>\n",
              "      <th>CLAIM_STATUS</th>\n",
              "      <th>INCIDENT_SEVERITY</th>\n",
              "      <th>AUTHORITY_CONTACTED</th>\n",
              "      <th>ANY_INJURY</th>\n",
              "      <th>POLICE_REPORT_AVAILABLE</th>\n",
              "      <th>INCIDENT_STATE</th>\n",
              "      <th>INCIDENT_CITY</th>\n",
              "      <th>INCIDENT_HOUR_OF_THE_DAY</th>\n",
              "      <th>VENDOR_ID</th>\n",
              "    </tr>\n",
              "  </thead>\n",
              "  <tbody>\n",
              "    <tr>\n",
              "      <th>0</th>\n",
              "      <td>AGENT00001</td>\n",
              "      <td>Ray Johns</td>\n",
              "      <td>1993-06-05</td>\n",
              "      <td>1402 Maggies Way</td>\n",
              "      <td>NaN</td>\n",
              "      <td>Waterbury Center</td>\n",
              "      <td>VT</td>\n",
              "      <td>5677</td>\n",
              "      <td>34584958</td>\n",
              "      <td>HKUN51252328472585</td>\n",
              "      <td>...</td>\n",
              "      <td>College</td>\n",
              "      <td>A</td>\n",
              "      <td>Minor Loss</td>\n",
              "      <td>None</td>\n",
              "      <td>0</td>\n",
              "      <td>1</td>\n",
              "      <td>FL</td>\n",
              "      <td>Lynn Haven</td>\n",
              "      <td>4</td>\n",
              "      <td>VNDR00394</td>\n",
              "    </tr>\n",
              "    <tr>\n",
              "      <th>1</th>\n",
              "      <td>AGENT00001</td>\n",
              "      <td>Ray Johns</td>\n",
              "      <td>1993-06-05</td>\n",
              "      <td>1402 Maggies Way</td>\n",
              "      <td>NaN</td>\n",
              "      <td>Waterbury Center</td>\n",
              "      <td>VT</td>\n",
              "      <td>5677</td>\n",
              "      <td>34584958</td>\n",
              "      <td>HKUN51252328472585</td>\n",
              "      <td>...</td>\n",
              "      <td>Bachelor</td>\n",
              "      <td>A</td>\n",
              "      <td>Total Loss</td>\n",
              "      <td>Ambulance</td>\n",
              "      <td>0</td>\n",
              "      <td>1</td>\n",
              "      <td>MD</td>\n",
              "      <td>Glen Burnie</td>\n",
              "      <td>5</td>\n",
              "      <td>VNDR00222</td>\n",
              "    </tr>\n",
              "    <tr>\n",
              "      <th>2</th>\n",
              "      <td>AGENT00001</td>\n",
              "      <td>Ray Johns</td>\n",
              "      <td>1993-06-05</td>\n",
              "      <td>1402 Maggies Way</td>\n",
              "      <td>NaN</td>\n",
              "      <td>Waterbury Center</td>\n",
              "      <td>VT</td>\n",
              "      <td>5677</td>\n",
              "      <td>34584958</td>\n",
              "      <td>HKUN51252328472585</td>\n",
              "      <td>...</td>\n",
              "      <td>Bachelor</td>\n",
              "      <td>A</td>\n",
              "      <td>Major Loss</td>\n",
              "      <td>None</td>\n",
              "      <td>1</td>\n",
              "      <td>1</td>\n",
              "      <td>MD</td>\n",
              "      <td>Arnold</td>\n",
              "      <td>6</td>\n",
              "      <td>VNDR00440</td>\n",
              "    </tr>\n",
              "    <tr>\n",
              "      <th>3</th>\n",
              "      <td>AGENT00001</td>\n",
              "      <td>Ray Johns</td>\n",
              "      <td>1993-06-05</td>\n",
              "      <td>1402 Maggies Way</td>\n",
              "      <td>NaN</td>\n",
              "      <td>Waterbury Center</td>\n",
              "      <td>VT</td>\n",
              "      <td>5677</td>\n",
              "      <td>34584958</td>\n",
              "      <td>HKUN51252328472585</td>\n",
              "      <td>...</td>\n",
              "      <td>Masters</td>\n",
              "      <td>A</td>\n",
              "      <td>Total Loss</td>\n",
              "      <td>Ambulance</td>\n",
              "      <td>1</td>\n",
              "      <td>1</td>\n",
              "      <td>AR</td>\n",
              "      <td>Fayetteville</td>\n",
              "      <td>18</td>\n",
              "      <td>VNDR00267</td>\n",
              "    </tr>\n",
              "    <tr>\n",
              "      <th>4</th>\n",
              "      <td>AGENT00001</td>\n",
              "      <td>Ray Johns</td>\n",
              "      <td>1993-06-05</td>\n",
              "      <td>1402 Maggies Way</td>\n",
              "      <td>NaN</td>\n",
              "      <td>Waterbury Center</td>\n",
              "      <td>VT</td>\n",
              "      <td>5677</td>\n",
              "      <td>34584958</td>\n",
              "      <td>HKUN51252328472585</td>\n",
              "      <td>...</td>\n",
              "      <td>Bachelor</td>\n",
              "      <td>A</td>\n",
              "      <td>Minor Loss</td>\n",
              "      <td>Police</td>\n",
              "      <td>1</td>\n",
              "      <td>1</td>\n",
              "      <td>OK</td>\n",
              "      <td>Oklahoma City</td>\n",
              "      <td>18</td>\n",
              "      <td>NaN</td>\n",
              "    </tr>\n",
              "  </tbody>\n",
              "</table>\n",
              "<p>5 rows × 47 columns</p>\n",
              "</div>\n",
              "      <button class=\"colab-df-convert\" onclick=\"convertToInteractive('df-a016ef22-e0e4-4feb-b966-7ea356a033e0')\"\n",
              "              title=\"Convert this dataframe to an interactive table.\"\n",
              "              style=\"display:none;\">\n",
              "        \n",
              "  <svg xmlns=\"http://www.w3.org/2000/svg\" height=\"24px\"viewBox=\"0 0 24 24\"\n",
              "       width=\"24px\">\n",
              "    <path d=\"M0 0h24v24H0V0z\" fill=\"none\"/>\n",
              "    <path d=\"M18.56 5.44l.94 2.06.94-2.06 2.06-.94-2.06-.94-.94-2.06-.94 2.06-2.06.94zm-11 1L8.5 8.5l.94-2.06 2.06-.94-2.06-.94L8.5 2.5l-.94 2.06-2.06.94zm10 10l.94 2.06.94-2.06 2.06-.94-2.06-.94-.94-2.06-.94 2.06-2.06.94z\"/><path d=\"M17.41 7.96l-1.37-1.37c-.4-.4-.92-.59-1.43-.59-.52 0-1.04.2-1.43.59L10.3 9.45l-7.72 7.72c-.78.78-.78 2.05 0 2.83L4 21.41c.39.39.9.59 1.41.59.51 0 1.02-.2 1.41-.59l7.78-7.78 2.81-2.81c.8-.78.8-2.07 0-2.86zM5.41 20L4 18.59l7.72-7.72 1.47 1.35L5.41 20z\"/>\n",
              "  </svg>\n",
              "      </button>\n",
              "      \n",
              "  <style>\n",
              "    .colab-df-container {\n",
              "      display:flex;\n",
              "      flex-wrap:wrap;\n",
              "      gap: 12px;\n",
              "    }\n",
              "\n",
              "    .colab-df-convert {\n",
              "      background-color: #E8F0FE;\n",
              "      border: none;\n",
              "      border-radius: 50%;\n",
              "      cursor: pointer;\n",
              "      display: none;\n",
              "      fill: #1967D2;\n",
              "      height: 32px;\n",
              "      padding: 0 0 0 0;\n",
              "      width: 32px;\n",
              "    }\n",
              "\n",
              "    .colab-df-convert:hover {\n",
              "      background-color: #E2EBFA;\n",
              "      box-shadow: 0px 1px 2px rgba(60, 64, 67, 0.3), 0px 1px 3px 1px rgba(60, 64, 67, 0.15);\n",
              "      fill: #174EA6;\n",
              "    }\n",
              "\n",
              "    [theme=dark] .colab-df-convert {\n",
              "      background-color: #3B4455;\n",
              "      fill: #D2E3FC;\n",
              "    }\n",
              "\n",
              "    [theme=dark] .colab-df-convert:hover {\n",
              "      background-color: #434B5C;\n",
              "      box-shadow: 0px 1px 3px 1px rgba(0, 0, 0, 0.15);\n",
              "      filter: drop-shadow(0px 1px 2px rgba(0, 0, 0, 0.3));\n",
              "      fill: #FFFFFF;\n",
              "    }\n",
              "  </style>\n",
              "\n",
              "      <script>\n",
              "        const buttonEl =\n",
              "          document.querySelector('#df-a016ef22-e0e4-4feb-b966-7ea356a033e0 button.colab-df-convert');\n",
              "        buttonEl.style.display =\n",
              "          google.colab.kernel.accessAllowed ? 'block' : 'none';\n",
              "\n",
              "        async function convertToInteractive(key) {\n",
              "          const element = document.querySelector('#df-a016ef22-e0e4-4feb-b966-7ea356a033e0');\n",
              "          const dataTable =\n",
              "            await google.colab.kernel.invokeFunction('convertToInteractive',\n",
              "                                                     [key], {});\n",
              "          if (!dataTable) return;\n",
              "\n",
              "          const docLinkHtml = 'Like what you see? Visit the ' +\n",
              "            '<a target=\"_blank\" href=https://colab.research.google.com/notebooks/data_table.ipynb>data table notebook</a>'\n",
              "            + ' to learn more about interactive tables.';\n",
              "          element.innerHTML = '';\n",
              "          dataTable['output_type'] = 'display_data';\n",
              "          await google.colab.output.renderOutput(dataTable, element);\n",
              "          const docLink = document.createElement('div');\n",
              "          docLink.innerHTML = docLinkHtml;\n",
              "          element.appendChild(docLink);\n",
              "        }\n",
              "      </script>\n",
              "    </div>\n",
              "  </div>\n",
              "  "
            ]
          },
          "metadata": {},
          "execution_count": 461
        }
      ]
    },
    {
      "cell_type": "code",
      "source": [
        "df1.shape"
      ],
      "metadata": {
        "colab": {
          "base_uri": "https://localhost:8080/"
        },
        "id": "S7oJyURwoos9",
        "outputId": "9bb0d62a-16d3-46a6-e4cb-c26a552d6313"
      },
      "execution_count": 462,
      "outputs": [
        {
          "output_type": "execute_result",
          "data": {
            "text/plain": [
              "(10000, 47)"
            ]
          },
          "metadata": {},
          "execution_count": 462
        }
      ]
    },
    {
      "cell_type": "code",
      "source": [
        "#Mergoing vendor data and combining all three data set\n",
        "merged_df = df1.merge(vend_df, on = 'VENDOR_ID', how = 'left')\n",
        "merged_df.head()"
      ],
      "metadata": {
        "colab": {
          "base_uri": "https://localhost:8080/",
          "height": 404
        },
        "id": "UKhDeytkmq5Q",
        "outputId": "fedd6572-78fb-4737-dbf4-ac0593ed7276"
      },
      "execution_count": 463,
      "outputs": [
        {
          "output_type": "execute_result",
          "data": {
            "text/plain": [
              "     AGENT_ID AGENT_NAME DATE_OF_JOINING   ADDRESS_LINE1_x ADDRESS_LINE2_x  \\\n",
              "0  AGENT00001  Ray Johns      1993-06-05  1402 Maggies Way             NaN   \n",
              "1  AGENT00001  Ray Johns      1993-06-05  1402 Maggies Way             NaN   \n",
              "2  AGENT00001  Ray Johns      1993-06-05  1402 Maggies Way             NaN   \n",
              "3  AGENT00001  Ray Johns      1993-06-05  1402 Maggies Way             NaN   \n",
              "4  AGENT00001  Ray Johns      1993-06-05  1402 Maggies Way             NaN   \n",
              "\n",
              "             CITY_x STATE_x  POSTAL_CODE_x  EMP_ROUTING_NUMBER  \\\n",
              "0  Waterbury Center      VT           5677            34584958   \n",
              "1  Waterbury Center      VT           5677            34584958   \n",
              "2  Waterbury Center      VT           5677            34584958   \n",
              "3  Waterbury Center      VT           5677            34584958   \n",
              "4  Waterbury Center      VT           5677            34584958   \n",
              "\n",
              "      EMP_ACCT_NUMBER  ... INCIDENT_STATE  INCIDENT_CITY  \\\n",
              "0  HKUN51252328472585  ...             FL     Lynn Haven   \n",
              "1  HKUN51252328472585  ...             MD    Glen Burnie   \n",
              "2  HKUN51252328472585  ...             MD         Arnold   \n",
              "3  HKUN51252328472585  ...             AR   Fayetteville   \n",
              "4  HKUN51252328472585  ...             OK  Oklahoma City   \n",
              "\n",
              "  INCIDENT_HOUR_OF_THE_DAY  VENDOR_ID                   VENDOR_NAME  \\\n",
              "0                        4  VNDR00394                      Hart PLC   \n",
              "1                        5  VNDR00222                Webb-Henderson   \n",
              "2                        6  VNDR00440  Hawkins, Hansen and Gonzalez   \n",
              "3                       18  VNDR00267                   Mercado Inc   \n",
              "4                       18        NaN                           NaN   \n",
              "\n",
              "               ADDRESS_LINE1 ADDRESS_LINE2           CITY  STATE  POSTAL_CODE  \n",
              "0         1108 Slater Street           NaN     Santa Rosa     CA      95404.0  \n",
              "1      2209 East Manor Drive           NaN   Fayetteville     AR      72701.0  \n",
              "2  188 Saint Matthews Avenue            #1     Louisville     KY      40207.0  \n",
              "3     6401 Green Meadow Lane           NaN  Oklahoma City     OK      73132.0  \n",
              "4                        NaN           NaN            NaN    NaN          NaN  \n",
              "\n",
              "[5 rows x 53 columns]"
            ],
            "text/html": [
              "\n",
              "  <div id=\"df-348d5736-15e4-4b3b-a77b-824bd26e42f6\">\n",
              "    <div class=\"colab-df-container\">\n",
              "      <div>\n",
              "<style scoped>\n",
              "    .dataframe tbody tr th:only-of-type {\n",
              "        vertical-align: middle;\n",
              "    }\n",
              "\n",
              "    .dataframe tbody tr th {\n",
              "        vertical-align: top;\n",
              "    }\n",
              "\n",
              "    .dataframe thead th {\n",
              "        text-align: right;\n",
              "    }\n",
              "</style>\n",
              "<table border=\"1\" class=\"dataframe\">\n",
              "  <thead>\n",
              "    <tr style=\"text-align: right;\">\n",
              "      <th></th>\n",
              "      <th>AGENT_ID</th>\n",
              "      <th>AGENT_NAME</th>\n",
              "      <th>DATE_OF_JOINING</th>\n",
              "      <th>ADDRESS_LINE1_x</th>\n",
              "      <th>ADDRESS_LINE2_x</th>\n",
              "      <th>CITY_x</th>\n",
              "      <th>STATE_x</th>\n",
              "      <th>POSTAL_CODE_x</th>\n",
              "      <th>EMP_ROUTING_NUMBER</th>\n",
              "      <th>EMP_ACCT_NUMBER</th>\n",
              "      <th>...</th>\n",
              "      <th>INCIDENT_STATE</th>\n",
              "      <th>INCIDENT_CITY</th>\n",
              "      <th>INCIDENT_HOUR_OF_THE_DAY</th>\n",
              "      <th>VENDOR_ID</th>\n",
              "      <th>VENDOR_NAME</th>\n",
              "      <th>ADDRESS_LINE1</th>\n",
              "      <th>ADDRESS_LINE2</th>\n",
              "      <th>CITY</th>\n",
              "      <th>STATE</th>\n",
              "      <th>POSTAL_CODE</th>\n",
              "    </tr>\n",
              "  </thead>\n",
              "  <tbody>\n",
              "    <tr>\n",
              "      <th>0</th>\n",
              "      <td>AGENT00001</td>\n",
              "      <td>Ray Johns</td>\n",
              "      <td>1993-06-05</td>\n",
              "      <td>1402 Maggies Way</td>\n",
              "      <td>NaN</td>\n",
              "      <td>Waterbury Center</td>\n",
              "      <td>VT</td>\n",
              "      <td>5677</td>\n",
              "      <td>34584958</td>\n",
              "      <td>HKUN51252328472585</td>\n",
              "      <td>...</td>\n",
              "      <td>FL</td>\n",
              "      <td>Lynn Haven</td>\n",
              "      <td>4</td>\n",
              "      <td>VNDR00394</td>\n",
              "      <td>Hart PLC</td>\n",
              "      <td>1108 Slater Street</td>\n",
              "      <td>NaN</td>\n",
              "      <td>Santa Rosa</td>\n",
              "      <td>CA</td>\n",
              "      <td>95404.0</td>\n",
              "    </tr>\n",
              "    <tr>\n",
              "      <th>1</th>\n",
              "      <td>AGENT00001</td>\n",
              "      <td>Ray Johns</td>\n",
              "      <td>1993-06-05</td>\n",
              "      <td>1402 Maggies Way</td>\n",
              "      <td>NaN</td>\n",
              "      <td>Waterbury Center</td>\n",
              "      <td>VT</td>\n",
              "      <td>5677</td>\n",
              "      <td>34584958</td>\n",
              "      <td>HKUN51252328472585</td>\n",
              "      <td>...</td>\n",
              "      <td>MD</td>\n",
              "      <td>Glen Burnie</td>\n",
              "      <td>5</td>\n",
              "      <td>VNDR00222</td>\n",
              "      <td>Webb-Henderson</td>\n",
              "      <td>2209 East Manor Drive</td>\n",
              "      <td>NaN</td>\n",
              "      <td>Fayetteville</td>\n",
              "      <td>AR</td>\n",
              "      <td>72701.0</td>\n",
              "    </tr>\n",
              "    <tr>\n",
              "      <th>2</th>\n",
              "      <td>AGENT00001</td>\n",
              "      <td>Ray Johns</td>\n",
              "      <td>1993-06-05</td>\n",
              "      <td>1402 Maggies Way</td>\n",
              "      <td>NaN</td>\n",
              "      <td>Waterbury Center</td>\n",
              "      <td>VT</td>\n",
              "      <td>5677</td>\n",
              "      <td>34584958</td>\n",
              "      <td>HKUN51252328472585</td>\n",
              "      <td>...</td>\n",
              "      <td>MD</td>\n",
              "      <td>Arnold</td>\n",
              "      <td>6</td>\n",
              "      <td>VNDR00440</td>\n",
              "      <td>Hawkins, Hansen and Gonzalez</td>\n",
              "      <td>188 Saint Matthews Avenue</td>\n",
              "      <td>#1</td>\n",
              "      <td>Louisville</td>\n",
              "      <td>KY</td>\n",
              "      <td>40207.0</td>\n",
              "    </tr>\n",
              "    <tr>\n",
              "      <th>3</th>\n",
              "      <td>AGENT00001</td>\n",
              "      <td>Ray Johns</td>\n",
              "      <td>1993-06-05</td>\n",
              "      <td>1402 Maggies Way</td>\n",
              "      <td>NaN</td>\n",
              "      <td>Waterbury Center</td>\n",
              "      <td>VT</td>\n",
              "      <td>5677</td>\n",
              "      <td>34584958</td>\n",
              "      <td>HKUN51252328472585</td>\n",
              "      <td>...</td>\n",
              "      <td>AR</td>\n",
              "      <td>Fayetteville</td>\n",
              "      <td>18</td>\n",
              "      <td>VNDR00267</td>\n",
              "      <td>Mercado Inc</td>\n",
              "      <td>6401 Green Meadow Lane</td>\n",
              "      <td>NaN</td>\n",
              "      <td>Oklahoma City</td>\n",
              "      <td>OK</td>\n",
              "      <td>73132.0</td>\n",
              "    </tr>\n",
              "    <tr>\n",
              "      <th>4</th>\n",
              "      <td>AGENT00001</td>\n",
              "      <td>Ray Johns</td>\n",
              "      <td>1993-06-05</td>\n",
              "      <td>1402 Maggies Way</td>\n",
              "      <td>NaN</td>\n",
              "      <td>Waterbury Center</td>\n",
              "      <td>VT</td>\n",
              "      <td>5677</td>\n",
              "      <td>34584958</td>\n",
              "      <td>HKUN51252328472585</td>\n",
              "      <td>...</td>\n",
              "      <td>OK</td>\n",
              "      <td>Oklahoma City</td>\n",
              "      <td>18</td>\n",
              "      <td>NaN</td>\n",
              "      <td>NaN</td>\n",
              "      <td>NaN</td>\n",
              "      <td>NaN</td>\n",
              "      <td>NaN</td>\n",
              "      <td>NaN</td>\n",
              "      <td>NaN</td>\n",
              "    </tr>\n",
              "  </tbody>\n",
              "</table>\n",
              "<p>5 rows × 53 columns</p>\n",
              "</div>\n",
              "      <button class=\"colab-df-convert\" onclick=\"convertToInteractive('df-348d5736-15e4-4b3b-a77b-824bd26e42f6')\"\n",
              "              title=\"Convert this dataframe to an interactive table.\"\n",
              "              style=\"display:none;\">\n",
              "        \n",
              "  <svg xmlns=\"http://www.w3.org/2000/svg\" height=\"24px\"viewBox=\"0 0 24 24\"\n",
              "       width=\"24px\">\n",
              "    <path d=\"M0 0h24v24H0V0z\" fill=\"none\"/>\n",
              "    <path d=\"M18.56 5.44l.94 2.06.94-2.06 2.06-.94-2.06-.94-.94-2.06-.94 2.06-2.06.94zm-11 1L8.5 8.5l.94-2.06 2.06-.94-2.06-.94L8.5 2.5l-.94 2.06-2.06.94zm10 10l.94 2.06.94-2.06 2.06-.94-2.06-.94-.94-2.06-.94 2.06-2.06.94z\"/><path d=\"M17.41 7.96l-1.37-1.37c-.4-.4-.92-.59-1.43-.59-.52 0-1.04.2-1.43.59L10.3 9.45l-7.72 7.72c-.78.78-.78 2.05 0 2.83L4 21.41c.39.39.9.59 1.41.59.51 0 1.02-.2 1.41-.59l7.78-7.78 2.81-2.81c.8-.78.8-2.07 0-2.86zM5.41 20L4 18.59l7.72-7.72 1.47 1.35L5.41 20z\"/>\n",
              "  </svg>\n",
              "      </button>\n",
              "      \n",
              "  <style>\n",
              "    .colab-df-container {\n",
              "      display:flex;\n",
              "      flex-wrap:wrap;\n",
              "      gap: 12px;\n",
              "    }\n",
              "\n",
              "    .colab-df-convert {\n",
              "      background-color: #E8F0FE;\n",
              "      border: none;\n",
              "      border-radius: 50%;\n",
              "      cursor: pointer;\n",
              "      display: none;\n",
              "      fill: #1967D2;\n",
              "      height: 32px;\n",
              "      padding: 0 0 0 0;\n",
              "      width: 32px;\n",
              "    }\n",
              "\n",
              "    .colab-df-convert:hover {\n",
              "      background-color: #E2EBFA;\n",
              "      box-shadow: 0px 1px 2px rgba(60, 64, 67, 0.3), 0px 1px 3px 1px rgba(60, 64, 67, 0.15);\n",
              "      fill: #174EA6;\n",
              "    }\n",
              "\n",
              "    [theme=dark] .colab-df-convert {\n",
              "      background-color: #3B4455;\n",
              "      fill: #D2E3FC;\n",
              "    }\n",
              "\n",
              "    [theme=dark] .colab-df-convert:hover {\n",
              "      background-color: #434B5C;\n",
              "      box-shadow: 0px 1px 3px 1px rgba(0, 0, 0, 0.15);\n",
              "      filter: drop-shadow(0px 1px 2px rgba(0, 0, 0, 0.3));\n",
              "      fill: #FFFFFF;\n",
              "    }\n",
              "  </style>\n",
              "\n",
              "      <script>\n",
              "        const buttonEl =\n",
              "          document.querySelector('#df-348d5736-15e4-4b3b-a77b-824bd26e42f6 button.colab-df-convert');\n",
              "        buttonEl.style.display =\n",
              "          google.colab.kernel.accessAllowed ? 'block' : 'none';\n",
              "\n",
              "        async function convertToInteractive(key) {\n",
              "          const element = document.querySelector('#df-348d5736-15e4-4b3b-a77b-824bd26e42f6');\n",
              "          const dataTable =\n",
              "            await google.colab.kernel.invokeFunction('convertToInteractive',\n",
              "                                                     [key], {});\n",
              "          if (!dataTable) return;\n",
              "\n",
              "          const docLinkHtml = 'Like what you see? Visit the ' +\n",
              "            '<a target=\"_blank\" href=https://colab.research.google.com/notebooks/data_table.ipynb>data table notebook</a>'\n",
              "            + ' to learn more about interactive tables.';\n",
              "          element.innerHTML = '';\n",
              "          dataTable['output_type'] = 'display_data';\n",
              "          await google.colab.output.renderOutput(dataTable, element);\n",
              "          const docLink = document.createElement('div');\n",
              "          docLink.innerHTML = docLinkHtml;\n",
              "          element.appendChild(docLink);\n",
              "        }\n",
              "      </script>\n",
              "    </div>\n",
              "  </div>\n",
              "  "
            ]
          },
          "metadata": {},
          "execution_count": 463
        }
      ]
    },
    {
      "cell_type": "code",
      "source": [
        "merged_df.shape"
      ],
      "metadata": {
        "colab": {
          "base_uri": "https://localhost:8080/"
        },
        "id": "7DCk6bbWpW4g",
        "outputId": "8d8da6a5-0f47-451f-a32f-5ec25f97771d"
      },
      "execution_count": 464,
      "outputs": [
        {
          "output_type": "execute_result",
          "data": {
            "text/plain": [
              "(10000, 53)"
            ]
          },
          "metadata": {},
          "execution_count": 464
        }
      ]
    },
    {
      "cell_type": "markdown",
      "source": [
        "Merged_df is combined data frame having all three data set under one roof"
      ],
      "metadata": {
        "id": "5JrIHgPQzSpw"
      }
    },
    {
      "cell_type": "markdown",
      "source": [
        "# **Task #2**\n",
        "Business Leader wants to find Top 3 Insurance Type where we are getting\n",
        "most insurance claims?"
      ],
      "metadata": {
        "id": "t7NszAMIx7I0"
      }
    },
    {
      "cell_type": "code",
      "source": [
        "ins_df.head()"
      ],
      "metadata": {
        "colab": {
          "base_uri": "https://localhost:8080/",
          "height": 386
        },
        "id": "DiF8lOW4rIcH",
        "outputId": "96a18947-55a5-4984-fb23-ccff851ffc8a"
      },
      "execution_count": 465,
      "outputs": [
        {
          "output_type": "execute_result",
          "data": {
            "text/plain": [
              "         TXN_DATE_TIME TRANSACTION_ID CUSTOMER_ID POLICY_NUMBER POLICY_EFF_DT  \\\n",
              "0  2020-06-01 00:00:00    TXN00000001   A00003822   PLC00008468    2015-06-23   \n",
              "1  2020-06-01 00:00:00    TXN00000002   A00008149   PLC00009594    2018-04-21   \n",
              "2  2020-06-01 00:00:00    TXN00000003   A00003172   PLC00007969    2019-10-03   \n",
              "3  2020-06-01 00:00:00    TXN00000004   A00007572   PLC00009292    2016-11-29   \n",
              "4  2020-06-01 00:00:00    TXN00000005   A00008173   PLC00000204    2011-12-26   \n",
              "\n",
              "      LOSS_DT   REPORT_DT INSURANCE_TYPE  PREMIUM_AMOUNT  CLAIM_AMOUNT  ...  \\\n",
              "0  2020-05-16  2020-05-21         Health          157.13          9000  ...   \n",
              "1  2020-05-13  2020-05-18       Property          141.71         26000  ...   \n",
              "2  2020-05-21  2020-05-26       Property          157.24         13000  ...   \n",
              "3  2020-05-14  2020-05-19         Health          172.87         16000  ...   \n",
              "4  2020-05-17  2020-05-22         Travel           88.53          3000  ...   \n",
              "\n",
              "  CLAIM_STATUS INCIDENT_SEVERITY AUTHORITY_CONTACTED ANY_INJURY  \\\n",
              "0            A        Major Loss              Police          0   \n",
              "1            A        Total Loss           Ambulance          1   \n",
              "2            A        Total Loss              Police          0   \n",
              "3            A        Minor Loss           Ambulance          0   \n",
              "4            A        Major Loss              Police          0   \n",
              "\n",
              "  POLICE_REPORT_AVAILABLE  INCIDENT_STATE   INCIDENT_CITY  \\\n",
              "0                       1              GA        Savannah   \n",
              "1                       0              AL      Montgomery   \n",
              "2                       1              CO  Grand Junction   \n",
              "3                       0              GA        Savannah   \n",
              "4                       1              TN       Nashville   \n",
              "\n",
              "  INCIDENT_HOUR_OF_THE_DAY    AGENT_ID  VENDOR_ID  \n",
              "0                        4  AGENT00413  VNDR00556  \n",
              "1                        0  AGENT00769  VNDR00592  \n",
              "2                       19  AGENT00883  VNDR00031  \n",
              "3                       12  AGENT00278  VNDR00075  \n",
              "4                       18  AGENT00636  VNDR00472  \n",
              "\n",
              "[5 rows x 38 columns]"
            ],
            "text/html": [
              "\n",
              "  <div id=\"df-e311dbb9-7ac4-40e7-baad-1eab40c5bc84\">\n",
              "    <div class=\"colab-df-container\">\n",
              "      <div>\n",
              "<style scoped>\n",
              "    .dataframe tbody tr th:only-of-type {\n",
              "        vertical-align: middle;\n",
              "    }\n",
              "\n",
              "    .dataframe tbody tr th {\n",
              "        vertical-align: top;\n",
              "    }\n",
              "\n",
              "    .dataframe thead th {\n",
              "        text-align: right;\n",
              "    }\n",
              "</style>\n",
              "<table border=\"1\" class=\"dataframe\">\n",
              "  <thead>\n",
              "    <tr style=\"text-align: right;\">\n",
              "      <th></th>\n",
              "      <th>TXN_DATE_TIME</th>\n",
              "      <th>TRANSACTION_ID</th>\n",
              "      <th>CUSTOMER_ID</th>\n",
              "      <th>POLICY_NUMBER</th>\n",
              "      <th>POLICY_EFF_DT</th>\n",
              "      <th>LOSS_DT</th>\n",
              "      <th>REPORT_DT</th>\n",
              "      <th>INSURANCE_TYPE</th>\n",
              "      <th>PREMIUM_AMOUNT</th>\n",
              "      <th>CLAIM_AMOUNT</th>\n",
              "      <th>...</th>\n",
              "      <th>CLAIM_STATUS</th>\n",
              "      <th>INCIDENT_SEVERITY</th>\n",
              "      <th>AUTHORITY_CONTACTED</th>\n",
              "      <th>ANY_INJURY</th>\n",
              "      <th>POLICE_REPORT_AVAILABLE</th>\n",
              "      <th>INCIDENT_STATE</th>\n",
              "      <th>INCIDENT_CITY</th>\n",
              "      <th>INCIDENT_HOUR_OF_THE_DAY</th>\n",
              "      <th>AGENT_ID</th>\n",
              "      <th>VENDOR_ID</th>\n",
              "    </tr>\n",
              "  </thead>\n",
              "  <tbody>\n",
              "    <tr>\n",
              "      <th>0</th>\n",
              "      <td>2020-06-01 00:00:00</td>\n",
              "      <td>TXN00000001</td>\n",
              "      <td>A00003822</td>\n",
              "      <td>PLC00008468</td>\n",
              "      <td>2015-06-23</td>\n",
              "      <td>2020-05-16</td>\n",
              "      <td>2020-05-21</td>\n",
              "      <td>Health</td>\n",
              "      <td>157.13</td>\n",
              "      <td>9000</td>\n",
              "      <td>...</td>\n",
              "      <td>A</td>\n",
              "      <td>Major Loss</td>\n",
              "      <td>Police</td>\n",
              "      <td>0</td>\n",
              "      <td>1</td>\n",
              "      <td>GA</td>\n",
              "      <td>Savannah</td>\n",
              "      <td>4</td>\n",
              "      <td>AGENT00413</td>\n",
              "      <td>VNDR00556</td>\n",
              "    </tr>\n",
              "    <tr>\n",
              "      <th>1</th>\n",
              "      <td>2020-06-01 00:00:00</td>\n",
              "      <td>TXN00000002</td>\n",
              "      <td>A00008149</td>\n",
              "      <td>PLC00009594</td>\n",
              "      <td>2018-04-21</td>\n",
              "      <td>2020-05-13</td>\n",
              "      <td>2020-05-18</td>\n",
              "      <td>Property</td>\n",
              "      <td>141.71</td>\n",
              "      <td>26000</td>\n",
              "      <td>...</td>\n",
              "      <td>A</td>\n",
              "      <td>Total Loss</td>\n",
              "      <td>Ambulance</td>\n",
              "      <td>1</td>\n",
              "      <td>0</td>\n",
              "      <td>AL</td>\n",
              "      <td>Montgomery</td>\n",
              "      <td>0</td>\n",
              "      <td>AGENT00769</td>\n",
              "      <td>VNDR00592</td>\n",
              "    </tr>\n",
              "    <tr>\n",
              "      <th>2</th>\n",
              "      <td>2020-06-01 00:00:00</td>\n",
              "      <td>TXN00000003</td>\n",
              "      <td>A00003172</td>\n",
              "      <td>PLC00007969</td>\n",
              "      <td>2019-10-03</td>\n",
              "      <td>2020-05-21</td>\n",
              "      <td>2020-05-26</td>\n",
              "      <td>Property</td>\n",
              "      <td>157.24</td>\n",
              "      <td>13000</td>\n",
              "      <td>...</td>\n",
              "      <td>A</td>\n",
              "      <td>Total Loss</td>\n",
              "      <td>Police</td>\n",
              "      <td>0</td>\n",
              "      <td>1</td>\n",
              "      <td>CO</td>\n",
              "      <td>Grand Junction</td>\n",
              "      <td>19</td>\n",
              "      <td>AGENT00883</td>\n",
              "      <td>VNDR00031</td>\n",
              "    </tr>\n",
              "    <tr>\n",
              "      <th>3</th>\n",
              "      <td>2020-06-01 00:00:00</td>\n",
              "      <td>TXN00000004</td>\n",
              "      <td>A00007572</td>\n",
              "      <td>PLC00009292</td>\n",
              "      <td>2016-11-29</td>\n",
              "      <td>2020-05-14</td>\n",
              "      <td>2020-05-19</td>\n",
              "      <td>Health</td>\n",
              "      <td>172.87</td>\n",
              "      <td>16000</td>\n",
              "      <td>...</td>\n",
              "      <td>A</td>\n",
              "      <td>Minor Loss</td>\n",
              "      <td>Ambulance</td>\n",
              "      <td>0</td>\n",
              "      <td>0</td>\n",
              "      <td>GA</td>\n",
              "      <td>Savannah</td>\n",
              "      <td>12</td>\n",
              "      <td>AGENT00278</td>\n",
              "      <td>VNDR00075</td>\n",
              "    </tr>\n",
              "    <tr>\n",
              "      <th>4</th>\n",
              "      <td>2020-06-01 00:00:00</td>\n",
              "      <td>TXN00000005</td>\n",
              "      <td>A00008173</td>\n",
              "      <td>PLC00000204</td>\n",
              "      <td>2011-12-26</td>\n",
              "      <td>2020-05-17</td>\n",
              "      <td>2020-05-22</td>\n",
              "      <td>Travel</td>\n",
              "      <td>88.53</td>\n",
              "      <td>3000</td>\n",
              "      <td>...</td>\n",
              "      <td>A</td>\n",
              "      <td>Major Loss</td>\n",
              "      <td>Police</td>\n",
              "      <td>0</td>\n",
              "      <td>1</td>\n",
              "      <td>TN</td>\n",
              "      <td>Nashville</td>\n",
              "      <td>18</td>\n",
              "      <td>AGENT00636</td>\n",
              "      <td>VNDR00472</td>\n",
              "    </tr>\n",
              "  </tbody>\n",
              "</table>\n",
              "<p>5 rows × 38 columns</p>\n",
              "</div>\n",
              "      <button class=\"colab-df-convert\" onclick=\"convertToInteractive('df-e311dbb9-7ac4-40e7-baad-1eab40c5bc84')\"\n",
              "              title=\"Convert this dataframe to an interactive table.\"\n",
              "              style=\"display:none;\">\n",
              "        \n",
              "  <svg xmlns=\"http://www.w3.org/2000/svg\" height=\"24px\"viewBox=\"0 0 24 24\"\n",
              "       width=\"24px\">\n",
              "    <path d=\"M0 0h24v24H0V0z\" fill=\"none\"/>\n",
              "    <path d=\"M18.56 5.44l.94 2.06.94-2.06 2.06-.94-2.06-.94-.94-2.06-.94 2.06-2.06.94zm-11 1L8.5 8.5l.94-2.06 2.06-.94-2.06-.94L8.5 2.5l-.94 2.06-2.06.94zm10 10l.94 2.06.94-2.06 2.06-.94-2.06-.94-.94-2.06-.94 2.06-2.06.94z\"/><path d=\"M17.41 7.96l-1.37-1.37c-.4-.4-.92-.59-1.43-.59-.52 0-1.04.2-1.43.59L10.3 9.45l-7.72 7.72c-.78.78-.78 2.05 0 2.83L4 21.41c.39.39.9.59 1.41.59.51 0 1.02-.2 1.41-.59l7.78-7.78 2.81-2.81c.8-.78.8-2.07 0-2.86zM5.41 20L4 18.59l7.72-7.72 1.47 1.35L5.41 20z\"/>\n",
              "  </svg>\n",
              "      </button>\n",
              "      \n",
              "  <style>\n",
              "    .colab-df-container {\n",
              "      display:flex;\n",
              "      flex-wrap:wrap;\n",
              "      gap: 12px;\n",
              "    }\n",
              "\n",
              "    .colab-df-convert {\n",
              "      background-color: #E8F0FE;\n",
              "      border: none;\n",
              "      border-radius: 50%;\n",
              "      cursor: pointer;\n",
              "      display: none;\n",
              "      fill: #1967D2;\n",
              "      height: 32px;\n",
              "      padding: 0 0 0 0;\n",
              "      width: 32px;\n",
              "    }\n",
              "\n",
              "    .colab-df-convert:hover {\n",
              "      background-color: #E2EBFA;\n",
              "      box-shadow: 0px 1px 2px rgba(60, 64, 67, 0.3), 0px 1px 3px 1px rgba(60, 64, 67, 0.15);\n",
              "      fill: #174EA6;\n",
              "    }\n",
              "\n",
              "    [theme=dark] .colab-df-convert {\n",
              "      background-color: #3B4455;\n",
              "      fill: #D2E3FC;\n",
              "    }\n",
              "\n",
              "    [theme=dark] .colab-df-convert:hover {\n",
              "      background-color: #434B5C;\n",
              "      box-shadow: 0px 1px 3px 1px rgba(0, 0, 0, 0.15);\n",
              "      filter: drop-shadow(0px 1px 2px rgba(0, 0, 0, 0.3));\n",
              "      fill: #FFFFFF;\n",
              "    }\n",
              "  </style>\n",
              "\n",
              "      <script>\n",
              "        const buttonEl =\n",
              "          document.querySelector('#df-e311dbb9-7ac4-40e7-baad-1eab40c5bc84 button.colab-df-convert');\n",
              "        buttonEl.style.display =\n",
              "          google.colab.kernel.accessAllowed ? 'block' : 'none';\n",
              "\n",
              "        async function convertToInteractive(key) {\n",
              "          const element = document.querySelector('#df-e311dbb9-7ac4-40e7-baad-1eab40c5bc84');\n",
              "          const dataTable =\n",
              "            await google.colab.kernel.invokeFunction('convertToInteractive',\n",
              "                                                     [key], {});\n",
              "          if (!dataTable) return;\n",
              "\n",
              "          const docLinkHtml = 'Like what you see? Visit the ' +\n",
              "            '<a target=\"_blank\" href=https://colab.research.google.com/notebooks/data_table.ipynb>data table notebook</a>'\n",
              "            + ' to learn more about interactive tables.';\n",
              "          element.innerHTML = '';\n",
              "          dataTable['output_type'] = 'display_data';\n",
              "          await google.colab.output.renderOutput(dataTable, element);\n",
              "          const docLink = document.createElement('div');\n",
              "          docLink.innerHTML = docLinkHtml;\n",
              "          element.appendChild(docLink);\n",
              "        }\n",
              "      </script>\n",
              "    </div>\n",
              "  </div>\n",
              "  "
            ]
          },
          "metadata": {},
          "execution_count": 465
        }
      ]
    },
    {
      "cell_type": "code",
      "source": [
        "ins_df['INSURANCE_TYPE'].value_counts()[:3]"
      ],
      "metadata": {
        "colab": {
          "base_uri": "https://localhost:8080/"
        },
        "id": "LwJF02DAyLKT",
        "outputId": "073c4e4e-0b18-4fe3-81a0-7f30042cc814"
      },
      "execution_count": 466,
      "outputs": [
        {
          "output_type": "execute_result",
          "data": {
            "text/plain": [
              "Property    1692\n",
              "Mobile      1692\n",
              "Health      1690\n",
              "Name: INSURANCE_TYPE, dtype: int64"
            ]
          },
          "metadata": {},
          "execution_count": 466
        }
      ]
    },
    {
      "cell_type": "markdown",
      "source": [
        "The top 3 Insurance claims are for Property, Mobile and Health Insurance respectively."
      ],
      "metadata": {
        "id": "uJTwgCdKzHDK"
      }
    },
    {
      "cell_type": "markdown",
      "source": [
        "# **Task #3**\n",
        "Business Leader wants to find Top 5 States where we are getting most insurance claims\n",
        "for customer belonging to HIGH(H) risk segment?"
      ],
      "metadata": {
        "id": "kBDlP1GEzsHF"
      }
    },
    {
      "cell_type": "code",
      "source": [
        "ins_df['RISK_SEGMENTATION'].unique()"
      ],
      "metadata": {
        "colab": {
          "base_uri": "https://localhost:8080/"
        },
        "id": "99Tsq7p6zrYD",
        "outputId": "f72504e9-d06d-41c3-e3ca-037e711656cb"
      },
      "execution_count": 467,
      "outputs": [
        {
          "output_type": "execute_result",
          "data": {
            "text/plain": [
              "array(['L', 'M', 'H'], dtype=object)"
            ]
          },
          "metadata": {},
          "execution_count": 467
        }
      ]
    },
    {
      "cell_type": "code",
      "source": [
        "ins_df[ins_df['RISK_SEGMENTATION']=='H']['STATE'].value_counts().head()"
      ],
      "metadata": {
        "id": "TUbOe2Ue5iwt",
        "colab": {
          "base_uri": "https://localhost:8080/"
        },
        "outputId": "1f113f1e-8516-47ba-81da-c0b930df4670"
      },
      "execution_count": 468,
      "outputs": [
        {
          "output_type": "execute_result",
          "data": {
            "text/plain": [
              "CA    148\n",
              "AZ    105\n",
              "FL    104\n",
              "TN    100\n",
              "AR     97\n",
              "Name: STATE, dtype: int64"
            ]
          },
          "metadata": {},
          "execution_count": 468
        }
      ]
    },
    {
      "cell_type": "markdown",
      "source": [
        "# **Task #4**\n",
        "Business wants to create a new variable “COLOCATION” which will have following values IF\n",
        "\n",
        "Customer State == Incident State == Agent Address State THEN 1 ELSE 0\n",
        "\n",
        "Find the mean of this new column"
      ],
      "metadata": {
        "id": "iszmKB-PS--0"
      }
    },
    {
      "cell_type": "code",
      "source": [
        "merged_df.columns"
      ],
      "metadata": {
        "colab": {
          "base_uri": "https://localhost:8080/"
        },
        "id": "mhcUQlrkSADl",
        "outputId": "7cd01eea-7585-45a1-c70d-d47cf4bbea40"
      },
      "execution_count": 469,
      "outputs": [
        {
          "output_type": "execute_result",
          "data": {
            "text/plain": [
              "Index(['AGENT_ID', 'AGENT_NAME', 'DATE_OF_JOINING', 'ADDRESS_LINE1_x',\n",
              "       'ADDRESS_LINE2_x', 'CITY_x', 'STATE_x', 'POSTAL_CODE_x',\n",
              "       'EMP_ROUTING_NUMBER', 'EMP_ACCT_NUMBER', 'TXN_DATE_TIME',\n",
              "       'TRANSACTION_ID', 'CUSTOMER_ID', 'POLICY_NUMBER', 'POLICY_EFF_DT',\n",
              "       'LOSS_DT', 'REPORT_DT', 'INSURANCE_TYPE', 'PREMIUM_AMOUNT',\n",
              "       'CLAIM_AMOUNT', 'CUSTOMER_NAME', 'ADDRESS_LINE1_y', 'ADDRESS_LINE2_y',\n",
              "       'CITY_y', 'STATE_y', 'POSTAL_CODE_y', 'SSN', 'MARITAL_STATUS', 'AGE',\n",
              "       'TENURE', 'EMPLOYMENT_STATUS', 'NO_OF_FAMILY_MEMBERS',\n",
              "       'RISK_SEGMENTATION', 'HOUSE_TYPE', 'SOCIAL_CLASS', 'ROUTING_NUMBER',\n",
              "       'ACCT_NUMBER', 'CUSTOMER_EDUCATION_LEVEL', 'CLAIM_STATUS',\n",
              "       'INCIDENT_SEVERITY', 'AUTHORITY_CONTACTED', 'ANY_INJURY',\n",
              "       'POLICE_REPORT_AVAILABLE', 'INCIDENT_STATE', 'INCIDENT_CITY',\n",
              "       'INCIDENT_HOUR_OF_THE_DAY', 'VENDOR_ID', 'VENDOR_NAME', 'ADDRESS_LINE1',\n",
              "       'ADDRESS_LINE2', 'CITY', 'STATE', 'POSTAL_CODE'],\n",
              "      dtype='object')"
            ]
          },
          "metadata": {},
          "execution_count": 469
        }
      ]
    },
    {
      "cell_type": "code",
      "source": [
        "merged_df['COLOCATION'] = np.where((merged_df['STATE_x']==merged_df['STATE_y']) & ( merged_df['STATE_x']==merged_df['INCIDENT_STATE']), 1,0)\n",
        "print(merged_df['COLOCATION'].mean())"
      ],
      "metadata": {
        "colab": {
          "base_uri": "https://localhost:8080/"
        },
        "id": "UIW7Tjfdc2sn",
        "outputId": "de4fd053-1bdf-41f8-f0da-09e88b094e5d"
      },
      "execution_count": 470,
      "outputs": [
        {
          "output_type": "stream",
          "name": "stdout",
          "text": [
            "0.0044\n"
          ]
        }
      ]
    },
    {
      "cell_type": "markdown",
      "source": [
        "# **Task #5**\n",
        "Data entry error was detected in the data and you are required to correct it.\n",
        "\n",
        " If for any\n",
        "claim transaction “AUTHORITY_CONTACTED” is NOT “Police” and POLICE_AVAILABLE == 1\n",
        "\n",
        "Then Update “AUTHORITY_CONTACTED” to Police.\n"
      ],
      "metadata": {
        "id": "vVIveAoRws13"
      }
    },
    {
      "cell_type": "code",
      "source": [
        "#Checking available enteries in Authority Contacted\n",
        "merged_df['AUTHORITY_CONTACTED'].unique()"
      ],
      "metadata": {
        "colab": {
          "base_uri": "https://localhost:8080/"
        },
        "id": "j_xc_UOTywsb",
        "outputId": "17683b8c-6d12-42f2-e5bd-2121e4c6eb47"
      },
      "execution_count": 471,
      "outputs": [
        {
          "output_type": "execute_result",
          "data": {
            "text/plain": [
              "array(['None', 'Ambulance', 'Police', 'Other'], dtype=object)"
            ]
          },
          "metadata": {},
          "execution_count": 471
        }
      ]
    },
    {
      "cell_type": "code",
      "source": [
        "merged_df['POLICE_REPORT_AVAILABLE'].unique()"
      ],
      "metadata": {
        "colab": {
          "base_uri": "https://localhost:8080/"
        },
        "id": "xo1vmgnSzAxq",
        "outputId": "c127204f-70fd-45fb-a908-bf21b1b966ac"
      },
      "execution_count": 472,
      "outputs": [
        {
          "output_type": "execute_result",
          "data": {
            "text/plain": [
              "array([1, 0])"
            ]
          },
          "metadata": {},
          "execution_count": 472
        }
      ]
    },
    {
      "cell_type": "markdown",
      "source": [
        "Lets check first head of the report where  “AUTHORITY_CONTACTED” is NOT “Police” and POLICE_AVAILABLE == 1"
      ],
      "metadata": {
        "id": "5AC2e-bG2PE-"
      }
    },
    {
      "cell_type": "code",
      "source": [
        "merged_df[(merged_df['AUTHORITY_CONTACTED'] != 'Police') & (merged_df['POLICE_REPORT_AVAILABLE']==1)][['AUTHORITY_CONTACTED','POLICE_REPORT_AVAILABLE']].head()"
      ],
      "metadata": {
        "colab": {
          "base_uri": "https://localhost:8080/",
          "height": 206
        },
        "id": "wZ-MFHWgzenf",
        "outputId": "83971613-7c6b-44f4-a347-e2dec8eba107"
      },
      "execution_count": 473,
      "outputs": [
        {
          "output_type": "execute_result",
          "data": {
            "text/plain": [
              "  AUTHORITY_CONTACTED  POLICE_REPORT_AVAILABLE\n",
              "0                None                        1\n",
              "1           Ambulance                        1\n",
              "2                None                        1\n",
              "3           Ambulance                        1\n",
              "5           Ambulance                        1"
            ],
            "text/html": [
              "\n",
              "  <div id=\"df-52b63fee-c7a6-45f6-b111-eff10a0df5c6\">\n",
              "    <div class=\"colab-df-container\">\n",
              "      <div>\n",
              "<style scoped>\n",
              "    .dataframe tbody tr th:only-of-type {\n",
              "        vertical-align: middle;\n",
              "    }\n",
              "\n",
              "    .dataframe tbody tr th {\n",
              "        vertical-align: top;\n",
              "    }\n",
              "\n",
              "    .dataframe thead th {\n",
              "        text-align: right;\n",
              "    }\n",
              "</style>\n",
              "<table border=\"1\" class=\"dataframe\">\n",
              "  <thead>\n",
              "    <tr style=\"text-align: right;\">\n",
              "      <th></th>\n",
              "      <th>AUTHORITY_CONTACTED</th>\n",
              "      <th>POLICE_REPORT_AVAILABLE</th>\n",
              "    </tr>\n",
              "  </thead>\n",
              "  <tbody>\n",
              "    <tr>\n",
              "      <th>0</th>\n",
              "      <td>None</td>\n",
              "      <td>1</td>\n",
              "    </tr>\n",
              "    <tr>\n",
              "      <th>1</th>\n",
              "      <td>Ambulance</td>\n",
              "      <td>1</td>\n",
              "    </tr>\n",
              "    <tr>\n",
              "      <th>2</th>\n",
              "      <td>None</td>\n",
              "      <td>1</td>\n",
              "    </tr>\n",
              "    <tr>\n",
              "      <th>3</th>\n",
              "      <td>Ambulance</td>\n",
              "      <td>1</td>\n",
              "    </tr>\n",
              "    <tr>\n",
              "      <th>5</th>\n",
              "      <td>Ambulance</td>\n",
              "      <td>1</td>\n",
              "    </tr>\n",
              "  </tbody>\n",
              "</table>\n",
              "</div>\n",
              "      <button class=\"colab-df-convert\" onclick=\"convertToInteractive('df-52b63fee-c7a6-45f6-b111-eff10a0df5c6')\"\n",
              "              title=\"Convert this dataframe to an interactive table.\"\n",
              "              style=\"display:none;\">\n",
              "        \n",
              "  <svg xmlns=\"http://www.w3.org/2000/svg\" height=\"24px\"viewBox=\"0 0 24 24\"\n",
              "       width=\"24px\">\n",
              "    <path d=\"M0 0h24v24H0V0z\" fill=\"none\"/>\n",
              "    <path d=\"M18.56 5.44l.94 2.06.94-2.06 2.06-.94-2.06-.94-.94-2.06-.94 2.06-2.06.94zm-11 1L8.5 8.5l.94-2.06 2.06-.94-2.06-.94L8.5 2.5l-.94 2.06-2.06.94zm10 10l.94 2.06.94-2.06 2.06-.94-2.06-.94-.94-2.06-.94 2.06-2.06.94z\"/><path d=\"M17.41 7.96l-1.37-1.37c-.4-.4-.92-.59-1.43-.59-.52 0-1.04.2-1.43.59L10.3 9.45l-7.72 7.72c-.78.78-.78 2.05 0 2.83L4 21.41c.39.39.9.59 1.41.59.51 0 1.02-.2 1.41-.59l7.78-7.78 2.81-2.81c.8-.78.8-2.07 0-2.86zM5.41 20L4 18.59l7.72-7.72 1.47 1.35L5.41 20z\"/>\n",
              "  </svg>\n",
              "      </button>\n",
              "      \n",
              "  <style>\n",
              "    .colab-df-container {\n",
              "      display:flex;\n",
              "      flex-wrap:wrap;\n",
              "      gap: 12px;\n",
              "    }\n",
              "\n",
              "    .colab-df-convert {\n",
              "      background-color: #E8F0FE;\n",
              "      border: none;\n",
              "      border-radius: 50%;\n",
              "      cursor: pointer;\n",
              "      display: none;\n",
              "      fill: #1967D2;\n",
              "      height: 32px;\n",
              "      padding: 0 0 0 0;\n",
              "      width: 32px;\n",
              "    }\n",
              "\n",
              "    .colab-df-convert:hover {\n",
              "      background-color: #E2EBFA;\n",
              "      box-shadow: 0px 1px 2px rgba(60, 64, 67, 0.3), 0px 1px 3px 1px rgba(60, 64, 67, 0.15);\n",
              "      fill: #174EA6;\n",
              "    }\n",
              "\n",
              "    [theme=dark] .colab-df-convert {\n",
              "      background-color: #3B4455;\n",
              "      fill: #D2E3FC;\n",
              "    }\n",
              "\n",
              "    [theme=dark] .colab-df-convert:hover {\n",
              "      background-color: #434B5C;\n",
              "      box-shadow: 0px 1px 3px 1px rgba(0, 0, 0, 0.15);\n",
              "      filter: drop-shadow(0px 1px 2px rgba(0, 0, 0, 0.3));\n",
              "      fill: #FFFFFF;\n",
              "    }\n",
              "  </style>\n",
              "\n",
              "      <script>\n",
              "        const buttonEl =\n",
              "          document.querySelector('#df-52b63fee-c7a6-45f6-b111-eff10a0df5c6 button.colab-df-convert');\n",
              "        buttonEl.style.display =\n",
              "          google.colab.kernel.accessAllowed ? 'block' : 'none';\n",
              "\n",
              "        async function convertToInteractive(key) {\n",
              "          const element = document.querySelector('#df-52b63fee-c7a6-45f6-b111-eff10a0df5c6');\n",
              "          const dataTable =\n",
              "            await google.colab.kernel.invokeFunction('convertToInteractive',\n",
              "                                                     [key], {});\n",
              "          if (!dataTable) return;\n",
              "\n",
              "          const docLinkHtml = 'Like what you see? Visit the ' +\n",
              "            '<a target=\"_blank\" href=https://colab.research.google.com/notebooks/data_table.ipynb>data table notebook</a>'\n",
              "            + ' to learn more about interactive tables.';\n",
              "          element.innerHTML = '';\n",
              "          dataTable['output_type'] = 'display_data';\n",
              "          await google.colab.output.renderOutput(dataTable, element);\n",
              "          const docLink = document.createElement('div');\n",
              "          docLink.innerHTML = docLinkHtml;\n",
              "          element.appendChild(docLink);\n",
              "        }\n",
              "      </script>\n",
              "    </div>\n",
              "  </div>\n",
              "  "
            ]
          },
          "metadata": {},
          "execution_count": 473
        }
      ]
    },
    {
      "cell_type": "markdown",
      "source": [
        "Lets apply the condiionals to replace the specific values with conditionals in columns"
      ],
      "metadata": {
        "id": "Aov3eY9n2XDQ"
      }
    },
    {
      "cell_type": "code",
      "source": [
        "merged_df['AUTHORITY_CONTACTED'].mask((merged_df['AUTHORITY_CONTACTED'] != 'Police') & (merged_df['POLICE_REPORT_AVAILABLE']==1), 'Police', inplace=True)"
      ],
      "metadata": {
        "id": "UbTAeG-5b4kk"
      },
      "execution_count": 474,
      "outputs": []
    },
    {
      "cell_type": "markdown",
      "source": [
        "Lets again check the operation is succesfull or not by running previous code again"
      ],
      "metadata": {
        "id": "wrPyFEKi2eew"
      }
    },
    {
      "cell_type": "code",
      "source": [
        "merged_df[(merged_df['AUTHORITY_CONTACTED'] != 'Police') & (merged_df['POLICE_REPORT_AVAILABLE']==1)][['AUTHORITY_CONTACTED','POLICE_REPORT_AVAILABLE']].head()"
      ],
      "metadata": {
        "colab": {
          "base_uri": "https://localhost:8080/",
          "height": 49
        },
        "id": "aeaBWgFC04zb",
        "outputId": "0307f759-2fa9-4124-87a5-9236d75c041d"
      },
      "execution_count": 475,
      "outputs": [
        {
          "output_type": "execute_result",
          "data": {
            "text/plain": [
              "Empty DataFrame\n",
              "Columns: [AUTHORITY_CONTACTED, POLICE_REPORT_AVAILABLE]\n",
              "Index: []"
            ],
            "text/html": [
              "\n",
              "  <div id=\"df-e0eaeb5e-e8d6-4b58-a25c-087f974f5ccf\">\n",
              "    <div class=\"colab-df-container\">\n",
              "      <div>\n",
              "<style scoped>\n",
              "    .dataframe tbody tr th:only-of-type {\n",
              "        vertical-align: middle;\n",
              "    }\n",
              "\n",
              "    .dataframe tbody tr th {\n",
              "        vertical-align: top;\n",
              "    }\n",
              "\n",
              "    .dataframe thead th {\n",
              "        text-align: right;\n",
              "    }\n",
              "</style>\n",
              "<table border=\"1\" class=\"dataframe\">\n",
              "  <thead>\n",
              "    <tr style=\"text-align: right;\">\n",
              "      <th></th>\n",
              "      <th>AUTHORITY_CONTACTED</th>\n",
              "      <th>POLICE_REPORT_AVAILABLE</th>\n",
              "    </tr>\n",
              "  </thead>\n",
              "  <tbody>\n",
              "  </tbody>\n",
              "</table>\n",
              "</div>\n",
              "      <button class=\"colab-df-convert\" onclick=\"convertToInteractive('df-e0eaeb5e-e8d6-4b58-a25c-087f974f5ccf')\"\n",
              "              title=\"Convert this dataframe to an interactive table.\"\n",
              "              style=\"display:none;\">\n",
              "        \n",
              "  <svg xmlns=\"http://www.w3.org/2000/svg\" height=\"24px\"viewBox=\"0 0 24 24\"\n",
              "       width=\"24px\">\n",
              "    <path d=\"M0 0h24v24H0V0z\" fill=\"none\"/>\n",
              "    <path d=\"M18.56 5.44l.94 2.06.94-2.06 2.06-.94-2.06-.94-.94-2.06-.94 2.06-2.06.94zm-11 1L8.5 8.5l.94-2.06 2.06-.94-2.06-.94L8.5 2.5l-.94 2.06-2.06.94zm10 10l.94 2.06.94-2.06 2.06-.94-2.06-.94-.94-2.06-.94 2.06-2.06.94z\"/><path d=\"M17.41 7.96l-1.37-1.37c-.4-.4-.92-.59-1.43-.59-.52 0-1.04.2-1.43.59L10.3 9.45l-7.72 7.72c-.78.78-.78 2.05 0 2.83L4 21.41c.39.39.9.59 1.41.59.51 0 1.02-.2 1.41-.59l7.78-7.78 2.81-2.81c.8-.78.8-2.07 0-2.86zM5.41 20L4 18.59l7.72-7.72 1.47 1.35L5.41 20z\"/>\n",
              "  </svg>\n",
              "      </button>\n",
              "      \n",
              "  <style>\n",
              "    .colab-df-container {\n",
              "      display:flex;\n",
              "      flex-wrap:wrap;\n",
              "      gap: 12px;\n",
              "    }\n",
              "\n",
              "    .colab-df-convert {\n",
              "      background-color: #E8F0FE;\n",
              "      border: none;\n",
              "      border-radius: 50%;\n",
              "      cursor: pointer;\n",
              "      display: none;\n",
              "      fill: #1967D2;\n",
              "      height: 32px;\n",
              "      padding: 0 0 0 0;\n",
              "      width: 32px;\n",
              "    }\n",
              "\n",
              "    .colab-df-convert:hover {\n",
              "      background-color: #E2EBFA;\n",
              "      box-shadow: 0px 1px 2px rgba(60, 64, 67, 0.3), 0px 1px 3px 1px rgba(60, 64, 67, 0.15);\n",
              "      fill: #174EA6;\n",
              "    }\n",
              "\n",
              "    [theme=dark] .colab-df-convert {\n",
              "      background-color: #3B4455;\n",
              "      fill: #D2E3FC;\n",
              "    }\n",
              "\n",
              "    [theme=dark] .colab-df-convert:hover {\n",
              "      background-color: #434B5C;\n",
              "      box-shadow: 0px 1px 3px 1px rgba(0, 0, 0, 0.15);\n",
              "      filter: drop-shadow(0px 1px 2px rgba(0, 0, 0, 0.3));\n",
              "      fill: #FFFFFF;\n",
              "    }\n",
              "  </style>\n",
              "\n",
              "      <script>\n",
              "        const buttonEl =\n",
              "          document.querySelector('#df-e0eaeb5e-e8d6-4b58-a25c-087f974f5ccf button.colab-df-convert');\n",
              "        buttonEl.style.display =\n",
              "          google.colab.kernel.accessAllowed ? 'block' : 'none';\n",
              "\n",
              "        async function convertToInteractive(key) {\n",
              "          const element = document.querySelector('#df-e0eaeb5e-e8d6-4b58-a25c-087f974f5ccf');\n",
              "          const dataTable =\n",
              "            await google.colab.kernel.invokeFunction('convertToInteractive',\n",
              "                                                     [key], {});\n",
              "          if (!dataTable) return;\n",
              "\n",
              "          const docLinkHtml = 'Like what you see? Visit the ' +\n",
              "            '<a target=\"_blank\" href=https://colab.research.google.com/notebooks/data_table.ipynb>data table notebook</a>'\n",
              "            + ' to learn more about interactive tables.';\n",
              "          element.innerHTML = '';\n",
              "          dataTable['output_type'] = 'display_data';\n",
              "          await google.colab.output.renderOutput(dataTable, element);\n",
              "          const docLink = document.createElement('div');\n",
              "          docLink.innerHTML = docLinkHtml;\n",
              "          element.appendChild(docLink);\n",
              "        }\n",
              "      </script>\n",
              "    </div>\n",
              "  </div>\n",
              "  "
            ]
          },
          "metadata": {},
          "execution_count": 475
        }
      ]
    },
    {
      "cell_type": "markdown",
      "source": [
        "It works...Yeah!"
      ],
      "metadata": {
        "id": "8RGFjzBv2mrn"
      }
    },
    {
      "cell_type": "markdown",
      "source": [
        "# **Task #6**\n",
        "\n",
        "Business wants to check the Claim Amount for deviation for each transaction, they would\n",
        "\n",
        "like you to calculate as follow\n",
        "\n",
        "CLAIM_DEVIATION = AVG_CLAIM_AMOUNT_FOR_LAST_30DAYS (same insurance type)\n",
        "/ CURRENT_CLAIM_AMOUNT\n",
        "\n",
        "If the value < 0.5 THEN CLAIM_DEVIATION = 1 ELSE 0\n",
        "\n",
        "If there is less than 30 days of transaction history THEN\n",
        "-1 \n",
        "\n",
        "Note: LAST_30DAYS does not include current day"
      ],
      "metadata": {
        "id": "Im5lnnco2pd9"
      }
    },
    {
      "cell_type": "code",
      "source": [
        "merged_df.TXN_DATE_TIME.max()"
      ],
      "metadata": {
        "colab": {
          "base_uri": "https://localhost:8080/",
          "height": 35
        },
        "id": "pfQohSSQ05Zq",
        "outputId": "cc4055d4-70ac-433d-91c0-5df11303c972"
      },
      "execution_count": 476,
      "outputs": [
        {
          "output_type": "execute_result",
          "data": {
            "text/plain": [
              "'2021-06-30 00:00:00'"
            ],
            "application/vnd.google.colaboratory.intrinsic+json": {
              "type": "string"
            }
          },
          "metadata": {},
          "execution_count": 476
        }
      ]
    },
    {
      "cell_type": "code",
      "source": [
        "merged_df.TXN_DATE_TIME.min()"
      ],
      "metadata": {
        "colab": {
          "base_uri": "https://localhost:8080/",
          "height": 35
        },
        "id": "Dx8uCKik7qtw",
        "outputId": "5714e4a6-a0a3-4fcc-b45b-c5920aad6e69"
      },
      "execution_count": 477,
      "outputs": [
        {
          "output_type": "execute_result",
          "data": {
            "text/plain": [
              "'2020-06-01 00:00:00'"
            ],
            "application/vnd.google.colaboratory.intrinsic+json": {
              "type": "string"
            }
          },
          "metadata": {},
          "execution_count": 477
        }
      ]
    },
    {
      "cell_type": "code",
      "source": [
        "Last_30_days_txn = merged_df.loc[(merged_df['TXN_DATE_TIME'] > '2021-05-30') & (merged_df['TXN_DATE_TIME'] < '2021-06-30')] "
      ],
      "metadata": {
        "id": "L5dulKob8TQ5"
      },
      "execution_count": 478,
      "outputs": []
    },
    {
      "cell_type": "code",
      "source": [
        "merged_df['TXN_DATE_TIME'] = merged_df['TXN_DATE_TIME'].astype('datetime64[ns]')\n",
        "Current_date =  pd.to_datetime('2021-06-30')\n",
        "Current_date"
      ],
      "metadata": {
        "colab": {
          "base_uri": "https://localhost:8080/"
        },
        "id": "Q0xFJh1FRMP1",
        "outputId": "9b2db522-4e95-4962-f57d-c0c6f1674ab3"
      },
      "execution_count": 479,
      "outputs": [
        {
          "output_type": "execute_result",
          "data": {
            "text/plain": [
              "Timestamp('2021-06-30 00:00:00')"
            ]
          },
          "metadata": {},
          "execution_count": 479
        }
      ]
    },
    {
      "cell_type": "code",
      "source": [
        "merged_df['TXN_DATE_TIME'] \n"
      ],
      "metadata": {
        "id": "iaCiHkvYTF7l"
      },
      "execution_count": null,
      "outputs": []
    },
    {
      "cell_type": "code",
      "source": [
        "average_claim = Last_30_days_txn.groupby('INSURANCE_TYPE').mean()['CLAIM_AMOUNT']"
      ],
      "metadata": {
        "id": "1Y8cR4oB_EbV"
      },
      "execution_count": 481,
      "outputs": []
    },
    {
      "cell_type": "code",
      "source": [
        "average_claim=dict(average_claim)\n",
        "average_claim"
      ],
      "metadata": {
        "colab": {
          "base_uri": "https://localhost:8080/"
        },
        "id": "jJXHb2rz_E0y",
        "outputId": "60086dbb-5927-49f5-a65d-df9b3f485a80"
      },
      "execution_count": 482,
      "outputs": [
        {
          "output_type": "execute_result",
          "data": {
            "text/plain": [
              "{'Health': 10943.661971830987,\n",
              " 'Life': 52255.1724137931,\n",
              " 'Mobile': 382.48175182481754,\n",
              " 'Motor': 5515.873015873016,\n",
              " 'Property': 24323.529411764706,\n",
              " 'Travel': 2800.0}"
            ]
          },
          "metadata": {},
          "execution_count": 482
        }
      ]
    },
    {
      "cell_type": "code",
      "source": [
        "def Claim_deviation(df):\n",
        "    if (Current_date - df['TXN_DATE_TIME'])<pd.Timedelta(days=30):\n",
        "        return -1\n",
        "    claim_deviation = average_claim[df['INSURANCE_TYPE']] / df['CLAIM_AMOUNT']\n",
        "    if claim_deviation < 0.5:\n",
        "        return 1\n",
        "    else:\n",
        "        return 0"
      ],
      "metadata": {
        "id": "LxUCq0ha_LBP"
      },
      "execution_count": 483,
      "outputs": []
    },
    {
      "cell_type": "code",
      "source": [
        "merged_df['CLAIM_DEVIATION'] = merged_df.apply(Claim_deviation,axis=1)"
      ],
      "metadata": {
        "id": "_p7lZyhHIWHN"
      },
      "execution_count": 484,
      "outputs": []
    },
    {
      "cell_type": "code",
      "source": [
        "merged_df['CLAIM_DEVIATION'].unique()"
      ],
      "metadata": {
        "id": "CbgCd_NNJlE6",
        "colab": {
          "base_uri": "https://localhost:8080/"
        },
        "outputId": "6a978071-0ff5-4231-aa45-bb60ed52fcd7"
      },
      "execution_count": 485,
      "outputs": [
        {
          "output_type": "execute_result",
          "data": {
            "text/plain": [
              "array([ 0, -1])"
            ]
          },
          "metadata": {},
          "execution_count": 485
        }
      ]
    },
    {
      "cell_type": "code",
      "source": [
        "merged_df[['TXN_DATE_TIME'\t,'TRANSACTION_ID'\t,'CUSTOMER_ID'\t,'POLICY_NUMBER'\t,'POLICY_EFF_DT'\t,'LOSS_DT'\t,'REPORT_DT'\t,'INSURANCE_TYPE' ,'CLAIM_AMOUNT' ,\t'CLAIM_DEVIATION']]"
      ],
      "metadata": {
        "id": "PfUjJD-iUV6S"
      },
      "execution_count": null,
      "outputs": []
    },
    {
      "cell_type": "markdown",
      "source": [
        "# **Task #7**\n",
        "Find All Agents who have worked on more than 2 types of Insurance Claims. \n",
        "\n",
        "Sort them by\n",
        "Total Claim Amount Approved under them in descending order\n"
      ],
      "metadata": {
        "id": "wSe_klgSXWIS"
      }
    },
    {
      "cell_type": "code",
      "source": [
        "agent = pd.DataFrame(merged_df.groupby(['AGENT_ID']) [ 'INSURANCE_TYPE' ].nunique().reset_index())"
      ],
      "metadata": {
        "id": "TFzGAxauZo2y"
      },
      "execution_count": 487,
      "outputs": []
    },
    {
      "cell_type": "code",
      "source": [
        "multiple_ins_agents = agent[(agent['INSURANCE_TYPE'] > 2)]"
      ],
      "metadata": {
        "id": "7OQ_ZzMUsm-Z"
      },
      "execution_count": 488,
      "outputs": []
    },
    {
      "cell_type": "code",
      "source": [
        "multiple_ins_agents"
      ],
      "metadata": {
        "id": "9MbdAgu6r1oX"
      },
      "execution_count": null,
      "outputs": []
    },
    {
      "cell_type": "code",
      "source": [
        "b = multiple_ins_agents.merge(merged_df, on='AGENT_ID', how='left')\n",
        "b"
      ],
      "metadata": {
        "id": "k9lvzeRptGkE"
      },
      "execution_count": null,
      "outputs": []
    },
    {
      "cell_type": "code",
      "source": [
        "Total_Claim_Amount_Approved=pd.DataFrame(b.groupby(['AGENT_ID','AGENT_NAME'])[\"CLAIM_AMOUNT\"].sum().sort_values(ascending = False))"
      ],
      "metadata": {
        "id": "rtFEh9AeuC2p"
      },
      "execution_count": 491,
      "outputs": []
    },
    {
      "cell_type": "code",
      "source": [
        "Total_Claim_Amount_Approved"
      ],
      "metadata": {
        "id": "J3z3Xq_Ot9uA"
      },
      "execution_count": null,
      "outputs": []
    },
    {
      "cell_type": "markdown",
      "source": [
        "# **Task #8**\n",
        "Mobile & Travel Insurance premium are discounted by 10%\n",
        "\n",
        "Health and Property Insurance premium are increased by 7%\n",
        "\n",
        "Life and Motor Insurance premium are marginally increased by 2%\n",
        "\n",
        "What will be overall change in % of the Premium Amount Collected for all these Customer?\n"
      ],
      "metadata": {
        "id": "TJAChfzavg66"
      }
    },
    {
      "cell_type": "code",
      "source": [
        "#Total Premium Collected Earlier\n",
        "total_premium = merged_df['PREMIUM_AMOUNT'].sum()\n",
        "total_premium"
      ],
      "metadata": {
        "id": "Lxvr-Ae0w3zo"
      },
      "execution_count": null,
      "outputs": []
    },
    {
      "cell_type": "code",
      "source": [
        "premium_collected= dict(merged_df.groupby(['INSURANCE_TYPE'])['PREMIUM_AMOUNT'].sum())\n",
        "premium_collected"
      ],
      "metadata": {
        "id": "r6S4xOgGwP06"
      },
      "execution_count": null,
      "outputs": []
    },
    {
      "cell_type": "code",
      "source": [
        "premium_collected['Health'] +=  premium_collected['Health'] * 7/100\n",
        "premium_collected['Life'] += premium_collected['Life'] * 2/100\n",
        "premium_collected['Mobile'] -= premium_collected['Mobile'] * 10/100\n",
        "premium_collected['Motor'] += premium_collected['Motor'] * 2/100\n",
        "premium_collected['Property'] += premium_collected['Property'] * 7/100\n",
        "premium_collected['Travel'] -= premium_collected['Travel'] * 10/100\n",
        "premium_collected"
      ],
      "metadata": {
        "id": "YY9nDahWwoKD"
      },
      "execution_count": null,
      "outputs": []
    },
    {
      "cell_type": "code",
      "source": [
        "total_premium_new = sum(premium_collected.values())\n",
        "total_premium_new"
      ],
      "metadata": {
        "id": "klgFhgngyRB2"
      },
      "execution_count": null,
      "outputs": []
    },
    {
      "cell_type": "code",
      "source": [
        "percentage_diff = (total_premium_new - total_premium) * 100/total_premium\n",
        "print(f\"There will be overall change in {round(percentage_diff,2)}% of the Premium Amount Collected for all these Customer\")"
      ],
      "metadata": {
        "id": "oEvswLUr0Lrz"
      },
      "execution_count": null,
      "outputs": []
    },
    {
      "cell_type": "markdown",
      "source": [
        "# **Task #10**\n",
        "Business wants to check Claim Velocity which is defined as follow\n",
        "\n",
        "CLAIM_VELOCITY = NO_OF_CLAIMS_IN_LAST30DAYS (for the current insurance type)\n",
        "/ NO_OF_CLAIMS_IN_LAST3DAYS (for the current insurance type)\n",
        "\n",
        "Note: LAST30DAYS & LAST3DAYS does not include current\n",
        "day"
      ],
      "metadata": {
        "id": "CO7Lkoa42Z73"
      }
    },
    {
      "cell_type": "code",
      "source": [
        "NO_OF_CLAIMS_IN_LAST30DAYS = pd.DataFrame(merged_df.loc[(merged_df['TXN_DATE_TIME'] > '2021-05-30') & (merged_df['TXN_DATE_TIME'] < '2021-06-30')])\n",
        "\n",
        "NO_OF_CLAIMS_IN_LAST30DAYS.groupby(by = 'INSURANCE_TYPE')\n",
        "NO_OF_CLAIMS_IN_LAST30DAYS['INSURANCE_TYPE'].value_counts().head()"
      ],
      "metadata": {
        "colab": {
          "base_uri": "https://localhost:8080/"
        },
        "id": "HxpPs0ER0QtO",
        "outputId": "402dbb9f-6bb0-4740-ce49-7b95548b07c2"
      },
      "execution_count": 557,
      "outputs": [
        {
          "output_type": "execute_result",
          "data": {
            "text/plain": [
              "Life        140\n",
              "Health      136\n",
              "Mobile      134\n",
              "Property    129\n",
              "Travel      125\n",
              "Name: INSURANCE_TYPE, dtype: int64"
            ]
          },
          "metadata": {},
          "execution_count": 557
        }
      ]
    },
    {
      "cell_type": "code",
      "source": [
        "NO_OF_CLAIMS_IN_LAST3DAYS = merged_df.loc[(merged_df['TXN_DATE_TIME'] > '2021-06-26') & (merged_df['TXN_DATE_TIME'] < '2021-06-30')] \n",
        "NO_OF_CLAIMS_IN_LAST3DAYS.groupby(by = 'INSURANCE_TYPE')\n",
        "NO_OF_CLAIMS_IN_LAST3DAYS['INSURANCE_TYPE'].value_counts().head()"
      ],
      "metadata": {
        "colab": {
          "base_uri": "https://localhost:8080/"
        },
        "id": "Wd0Qo6Jj4TLx",
        "outputId": "8eb59eaf-86a7-4cd2-f045-b0ed08f6fb09"
      },
      "execution_count": 550,
      "outputs": [
        {
          "output_type": "execute_result",
          "data": {
            "text/plain": [
              "Travel      14\n",
              "Health      14\n",
              "Life        14\n",
              "Property    13\n",
              "Motor       13\n",
              "Name: INSURANCE_TYPE, dtype: int64"
            ]
          },
          "metadata": {},
          "execution_count": 550
        }
      ]
    },
    {
      "cell_type": "code",
      "source": [
        "NoC30Days = pd.DataFrame.from_dict(NO_OF_CLAIMS_IN_LAST30DAYS.groupby('INSURANCE_TYPE').size().to_dict(),orient='index',columns=['NO_OF_CLAIMS_IN_LAST30DAYS'])\n",
        "NoC30Days"
      ],
      "metadata": {
        "colab": {
          "base_uri": "https://localhost:8080/",
          "height": 238
        },
        "id": "cEkzfChC8wc6",
        "outputId": "2ae31aef-7839-4eff-81bf-c5b58ce731ab"
      },
      "execution_count": 565,
      "outputs": [
        {
          "output_type": "execute_result",
          "data": {
            "text/plain": [
              "          NO_OF_CLAIMS_IN_LAST30DAYS\n",
              "Health                           136\n",
              "Life                             140\n",
              "Mobile                           134\n",
              "Motor                            122\n",
              "Property                         129\n",
              "Travel                           125"
            ],
            "text/html": [
              "\n",
              "  <div id=\"df-73ecac4f-3d7b-4634-8ad6-dfd9441d17cc\">\n",
              "    <div class=\"colab-df-container\">\n",
              "      <div>\n",
              "<style scoped>\n",
              "    .dataframe tbody tr th:only-of-type {\n",
              "        vertical-align: middle;\n",
              "    }\n",
              "\n",
              "    .dataframe tbody tr th {\n",
              "        vertical-align: top;\n",
              "    }\n",
              "\n",
              "    .dataframe thead th {\n",
              "        text-align: right;\n",
              "    }\n",
              "</style>\n",
              "<table border=\"1\" class=\"dataframe\">\n",
              "  <thead>\n",
              "    <tr style=\"text-align: right;\">\n",
              "      <th></th>\n",
              "      <th>NO_OF_CLAIMS_IN_LAST30DAYS</th>\n",
              "    </tr>\n",
              "  </thead>\n",
              "  <tbody>\n",
              "    <tr>\n",
              "      <th>Health</th>\n",
              "      <td>136</td>\n",
              "    </tr>\n",
              "    <tr>\n",
              "      <th>Life</th>\n",
              "      <td>140</td>\n",
              "    </tr>\n",
              "    <tr>\n",
              "      <th>Mobile</th>\n",
              "      <td>134</td>\n",
              "    </tr>\n",
              "    <tr>\n",
              "      <th>Motor</th>\n",
              "      <td>122</td>\n",
              "    </tr>\n",
              "    <tr>\n",
              "      <th>Property</th>\n",
              "      <td>129</td>\n",
              "    </tr>\n",
              "    <tr>\n",
              "      <th>Travel</th>\n",
              "      <td>125</td>\n",
              "    </tr>\n",
              "  </tbody>\n",
              "</table>\n",
              "</div>\n",
              "      <button class=\"colab-df-convert\" onclick=\"convertToInteractive('df-73ecac4f-3d7b-4634-8ad6-dfd9441d17cc')\"\n",
              "              title=\"Convert this dataframe to an interactive table.\"\n",
              "              style=\"display:none;\">\n",
              "        \n",
              "  <svg xmlns=\"http://www.w3.org/2000/svg\" height=\"24px\"viewBox=\"0 0 24 24\"\n",
              "       width=\"24px\">\n",
              "    <path d=\"M0 0h24v24H0V0z\" fill=\"none\"/>\n",
              "    <path d=\"M18.56 5.44l.94 2.06.94-2.06 2.06-.94-2.06-.94-.94-2.06-.94 2.06-2.06.94zm-11 1L8.5 8.5l.94-2.06 2.06-.94-2.06-.94L8.5 2.5l-.94 2.06-2.06.94zm10 10l.94 2.06.94-2.06 2.06-.94-2.06-.94-.94-2.06-.94 2.06-2.06.94z\"/><path d=\"M17.41 7.96l-1.37-1.37c-.4-.4-.92-.59-1.43-.59-.52 0-1.04.2-1.43.59L10.3 9.45l-7.72 7.72c-.78.78-.78 2.05 0 2.83L4 21.41c.39.39.9.59 1.41.59.51 0 1.02-.2 1.41-.59l7.78-7.78 2.81-2.81c.8-.78.8-2.07 0-2.86zM5.41 20L4 18.59l7.72-7.72 1.47 1.35L5.41 20z\"/>\n",
              "  </svg>\n",
              "      </button>\n",
              "      \n",
              "  <style>\n",
              "    .colab-df-container {\n",
              "      display:flex;\n",
              "      flex-wrap:wrap;\n",
              "      gap: 12px;\n",
              "    }\n",
              "\n",
              "    .colab-df-convert {\n",
              "      background-color: #E8F0FE;\n",
              "      border: none;\n",
              "      border-radius: 50%;\n",
              "      cursor: pointer;\n",
              "      display: none;\n",
              "      fill: #1967D2;\n",
              "      height: 32px;\n",
              "      padding: 0 0 0 0;\n",
              "      width: 32px;\n",
              "    }\n",
              "\n",
              "    .colab-df-convert:hover {\n",
              "      background-color: #E2EBFA;\n",
              "      box-shadow: 0px 1px 2px rgba(60, 64, 67, 0.3), 0px 1px 3px 1px rgba(60, 64, 67, 0.15);\n",
              "      fill: #174EA6;\n",
              "    }\n",
              "\n",
              "    [theme=dark] .colab-df-convert {\n",
              "      background-color: #3B4455;\n",
              "      fill: #D2E3FC;\n",
              "    }\n",
              "\n",
              "    [theme=dark] .colab-df-convert:hover {\n",
              "      background-color: #434B5C;\n",
              "      box-shadow: 0px 1px 3px 1px rgba(0, 0, 0, 0.15);\n",
              "      filter: drop-shadow(0px 1px 2px rgba(0, 0, 0, 0.3));\n",
              "      fill: #FFFFFF;\n",
              "    }\n",
              "  </style>\n",
              "\n",
              "      <script>\n",
              "        const buttonEl =\n",
              "          document.querySelector('#df-73ecac4f-3d7b-4634-8ad6-dfd9441d17cc button.colab-df-convert');\n",
              "        buttonEl.style.display =\n",
              "          google.colab.kernel.accessAllowed ? 'block' : 'none';\n",
              "\n",
              "        async function convertToInteractive(key) {\n",
              "          const element = document.querySelector('#df-73ecac4f-3d7b-4634-8ad6-dfd9441d17cc');\n",
              "          const dataTable =\n",
              "            await google.colab.kernel.invokeFunction('convertToInteractive',\n",
              "                                                     [key], {});\n",
              "          if (!dataTable) return;\n",
              "\n",
              "          const docLinkHtml = 'Like what you see? Visit the ' +\n",
              "            '<a target=\"_blank\" href=https://colab.research.google.com/notebooks/data_table.ipynb>data table notebook</a>'\n",
              "            + ' to learn more about interactive tables.';\n",
              "          element.innerHTML = '';\n",
              "          dataTable['output_type'] = 'display_data';\n",
              "          await google.colab.output.renderOutput(dataTable, element);\n",
              "          const docLink = document.createElement('div');\n",
              "          docLink.innerHTML = docLinkHtml;\n",
              "          element.appendChild(docLink);\n",
              "        }\n",
              "      </script>\n",
              "    </div>\n",
              "  </div>\n",
              "  "
            ]
          },
          "metadata": {},
          "execution_count": 565
        }
      ]
    },
    {
      "cell_type": "code",
      "source": [
        "NoC3Days = pd.DataFrame.from_dict(NO_OF_CLAIMS_IN_LAST3DAYS.groupby('INSURANCE_TYPE').size().to_dict(),orient='index',columns=['NO_OF_CLAIMS_IN_LAST3DAYS'])\n",
        "NoC3Days"
      ],
      "metadata": {
        "colab": {
          "base_uri": "https://localhost:8080/",
          "height": 238
        },
        "id": "OABtOTKw-Uv5",
        "outputId": "fd73a3f5-e90e-41e4-d478-2373e1183778"
      },
      "execution_count": 573,
      "outputs": [
        {
          "output_type": "execute_result",
          "data": {
            "text/plain": [
              "          NO_OF_CLAIMS_IN_LAST3DAYS\n",
              "Health                           14\n",
              "Life                             14\n",
              "Mobile                           10\n",
              "Motor                            13\n",
              "Property                         13\n",
              "Travel                           14"
            ],
            "text/html": [
              "\n",
              "  <div id=\"df-268f38df-e249-45ae-99dd-346f52dd6ae9\">\n",
              "    <div class=\"colab-df-container\">\n",
              "      <div>\n",
              "<style scoped>\n",
              "    .dataframe tbody tr th:only-of-type {\n",
              "        vertical-align: middle;\n",
              "    }\n",
              "\n",
              "    .dataframe tbody tr th {\n",
              "        vertical-align: top;\n",
              "    }\n",
              "\n",
              "    .dataframe thead th {\n",
              "        text-align: right;\n",
              "    }\n",
              "</style>\n",
              "<table border=\"1\" class=\"dataframe\">\n",
              "  <thead>\n",
              "    <tr style=\"text-align: right;\">\n",
              "      <th></th>\n",
              "      <th>NO_OF_CLAIMS_IN_LAST3DAYS</th>\n",
              "    </tr>\n",
              "  </thead>\n",
              "  <tbody>\n",
              "    <tr>\n",
              "      <th>Health</th>\n",
              "      <td>14</td>\n",
              "    </tr>\n",
              "    <tr>\n",
              "      <th>Life</th>\n",
              "      <td>14</td>\n",
              "    </tr>\n",
              "    <tr>\n",
              "      <th>Mobile</th>\n",
              "      <td>10</td>\n",
              "    </tr>\n",
              "    <tr>\n",
              "      <th>Motor</th>\n",
              "      <td>13</td>\n",
              "    </tr>\n",
              "    <tr>\n",
              "      <th>Property</th>\n",
              "      <td>13</td>\n",
              "    </tr>\n",
              "    <tr>\n",
              "      <th>Travel</th>\n",
              "      <td>14</td>\n",
              "    </tr>\n",
              "  </tbody>\n",
              "</table>\n",
              "</div>\n",
              "      <button class=\"colab-df-convert\" onclick=\"convertToInteractive('df-268f38df-e249-45ae-99dd-346f52dd6ae9')\"\n",
              "              title=\"Convert this dataframe to an interactive table.\"\n",
              "              style=\"display:none;\">\n",
              "        \n",
              "  <svg xmlns=\"http://www.w3.org/2000/svg\" height=\"24px\"viewBox=\"0 0 24 24\"\n",
              "       width=\"24px\">\n",
              "    <path d=\"M0 0h24v24H0V0z\" fill=\"none\"/>\n",
              "    <path d=\"M18.56 5.44l.94 2.06.94-2.06 2.06-.94-2.06-.94-.94-2.06-.94 2.06-2.06.94zm-11 1L8.5 8.5l.94-2.06 2.06-.94-2.06-.94L8.5 2.5l-.94 2.06-2.06.94zm10 10l.94 2.06.94-2.06 2.06-.94-2.06-.94-.94-2.06-.94 2.06-2.06.94z\"/><path d=\"M17.41 7.96l-1.37-1.37c-.4-.4-.92-.59-1.43-.59-.52 0-1.04.2-1.43.59L10.3 9.45l-7.72 7.72c-.78.78-.78 2.05 0 2.83L4 21.41c.39.39.9.59 1.41.59.51 0 1.02-.2 1.41-.59l7.78-7.78 2.81-2.81c.8-.78.8-2.07 0-2.86zM5.41 20L4 18.59l7.72-7.72 1.47 1.35L5.41 20z\"/>\n",
              "  </svg>\n",
              "      </button>\n",
              "      \n",
              "  <style>\n",
              "    .colab-df-container {\n",
              "      display:flex;\n",
              "      flex-wrap:wrap;\n",
              "      gap: 12px;\n",
              "    }\n",
              "\n",
              "    .colab-df-convert {\n",
              "      background-color: #E8F0FE;\n",
              "      border: none;\n",
              "      border-radius: 50%;\n",
              "      cursor: pointer;\n",
              "      display: none;\n",
              "      fill: #1967D2;\n",
              "      height: 32px;\n",
              "      padding: 0 0 0 0;\n",
              "      width: 32px;\n",
              "    }\n",
              "\n",
              "    .colab-df-convert:hover {\n",
              "      background-color: #E2EBFA;\n",
              "      box-shadow: 0px 1px 2px rgba(60, 64, 67, 0.3), 0px 1px 3px 1px rgba(60, 64, 67, 0.15);\n",
              "      fill: #174EA6;\n",
              "    }\n",
              "\n",
              "    [theme=dark] .colab-df-convert {\n",
              "      background-color: #3B4455;\n",
              "      fill: #D2E3FC;\n",
              "    }\n",
              "\n",
              "    [theme=dark] .colab-df-convert:hover {\n",
              "      background-color: #434B5C;\n",
              "      box-shadow: 0px 1px 3px 1px rgba(0, 0, 0, 0.15);\n",
              "      filter: drop-shadow(0px 1px 2px rgba(0, 0, 0, 0.3));\n",
              "      fill: #FFFFFF;\n",
              "    }\n",
              "  </style>\n",
              "\n",
              "      <script>\n",
              "        const buttonEl =\n",
              "          document.querySelector('#df-268f38df-e249-45ae-99dd-346f52dd6ae9 button.colab-df-convert');\n",
              "        buttonEl.style.display =\n",
              "          google.colab.kernel.accessAllowed ? 'block' : 'none';\n",
              "\n",
              "        async function convertToInteractive(key) {\n",
              "          const element = document.querySelector('#df-268f38df-e249-45ae-99dd-346f52dd6ae9');\n",
              "          const dataTable =\n",
              "            await google.colab.kernel.invokeFunction('convertToInteractive',\n",
              "                                                     [key], {});\n",
              "          if (!dataTable) return;\n",
              "\n",
              "          const docLinkHtml = 'Like what you see? Visit the ' +\n",
              "            '<a target=\"_blank\" href=https://colab.research.google.com/notebooks/data_table.ipynb>data table notebook</a>'\n",
              "            + ' to learn more about interactive tables.';\n",
              "          element.innerHTML = '';\n",
              "          dataTable['output_type'] = 'display_data';\n",
              "          await google.colab.output.renderOutput(dataTable, element);\n",
              "          const docLink = document.createElement('div');\n",
              "          docLink.innerHTML = docLinkHtml;\n",
              "          element.appendChild(docLink);\n",
              "        }\n",
              "      </script>\n",
              "    </div>\n",
              "  </div>\n",
              "  "
            ]
          },
          "metadata": {},
          "execution_count": 573
        }
      ]
    },
    {
      "cell_type": "code",
      "source": [
        "claims = NoC30Days.join(NoC3Days)\n",
        "claims['CLAIM_VELOCITY'] = claims['NO_OF_CLAIMS_IN_LAST30DAYS']/claims['NO_OF_CLAIMS_IN_LAST3DAYS']\n",
        "claims"
      ],
      "metadata": {
        "colab": {
          "base_uri": "https://localhost:8080/",
          "height": 238
        },
        "id": "0A5d0tJv42J7",
        "outputId": "bbf6c020-ae47-4709-8fe1-6a2927588173"
      },
      "execution_count": 577,
      "outputs": [
        {
          "output_type": "execute_result",
          "data": {
            "text/plain": [
              "          NO_OF_CLAIMS_IN_LAST30DAYS  NO_OF_CLAIMS_IN_LAST3DAYS  \\\n",
              "Health                           136                         14   \n",
              "Life                             140                         14   \n",
              "Mobile                           134                         10   \n",
              "Motor                            122                         13   \n",
              "Property                         129                         13   \n",
              "Travel                           125                         14   \n",
              "\n",
              "          CLAIM_VELOCITY  \n",
              "Health          9.714286  \n",
              "Life           10.000000  \n",
              "Mobile         13.400000  \n",
              "Motor           9.384615  \n",
              "Property        9.923077  \n",
              "Travel          8.928571  "
            ],
            "text/html": [
              "\n",
              "  <div id=\"df-7878efd8-0432-4db0-a54c-aeb96a657ed3\">\n",
              "    <div class=\"colab-df-container\">\n",
              "      <div>\n",
              "<style scoped>\n",
              "    .dataframe tbody tr th:only-of-type {\n",
              "        vertical-align: middle;\n",
              "    }\n",
              "\n",
              "    .dataframe tbody tr th {\n",
              "        vertical-align: top;\n",
              "    }\n",
              "\n",
              "    .dataframe thead th {\n",
              "        text-align: right;\n",
              "    }\n",
              "</style>\n",
              "<table border=\"1\" class=\"dataframe\">\n",
              "  <thead>\n",
              "    <tr style=\"text-align: right;\">\n",
              "      <th></th>\n",
              "      <th>NO_OF_CLAIMS_IN_LAST30DAYS</th>\n",
              "      <th>NO_OF_CLAIMS_IN_LAST3DAYS</th>\n",
              "      <th>CLAIM_VELOCITY</th>\n",
              "    </tr>\n",
              "  </thead>\n",
              "  <tbody>\n",
              "    <tr>\n",
              "      <th>Health</th>\n",
              "      <td>136</td>\n",
              "      <td>14</td>\n",
              "      <td>9.714286</td>\n",
              "    </tr>\n",
              "    <tr>\n",
              "      <th>Life</th>\n",
              "      <td>140</td>\n",
              "      <td>14</td>\n",
              "      <td>10.000000</td>\n",
              "    </tr>\n",
              "    <tr>\n",
              "      <th>Mobile</th>\n",
              "      <td>134</td>\n",
              "      <td>10</td>\n",
              "      <td>13.400000</td>\n",
              "    </tr>\n",
              "    <tr>\n",
              "      <th>Motor</th>\n",
              "      <td>122</td>\n",
              "      <td>13</td>\n",
              "      <td>9.384615</td>\n",
              "    </tr>\n",
              "    <tr>\n",
              "      <th>Property</th>\n",
              "      <td>129</td>\n",
              "      <td>13</td>\n",
              "      <td>9.923077</td>\n",
              "    </tr>\n",
              "    <tr>\n",
              "      <th>Travel</th>\n",
              "      <td>125</td>\n",
              "      <td>14</td>\n",
              "      <td>8.928571</td>\n",
              "    </tr>\n",
              "  </tbody>\n",
              "</table>\n",
              "</div>\n",
              "      <button class=\"colab-df-convert\" onclick=\"convertToInteractive('df-7878efd8-0432-4db0-a54c-aeb96a657ed3')\"\n",
              "              title=\"Convert this dataframe to an interactive table.\"\n",
              "              style=\"display:none;\">\n",
              "        \n",
              "  <svg xmlns=\"http://www.w3.org/2000/svg\" height=\"24px\"viewBox=\"0 0 24 24\"\n",
              "       width=\"24px\">\n",
              "    <path d=\"M0 0h24v24H0V0z\" fill=\"none\"/>\n",
              "    <path d=\"M18.56 5.44l.94 2.06.94-2.06 2.06-.94-2.06-.94-.94-2.06-.94 2.06-2.06.94zm-11 1L8.5 8.5l.94-2.06 2.06-.94-2.06-.94L8.5 2.5l-.94 2.06-2.06.94zm10 10l.94 2.06.94-2.06 2.06-.94-2.06-.94-.94-2.06-.94 2.06-2.06.94z\"/><path d=\"M17.41 7.96l-1.37-1.37c-.4-.4-.92-.59-1.43-.59-.52 0-1.04.2-1.43.59L10.3 9.45l-7.72 7.72c-.78.78-.78 2.05 0 2.83L4 21.41c.39.39.9.59 1.41.59.51 0 1.02-.2 1.41-.59l7.78-7.78 2.81-2.81c.8-.78.8-2.07 0-2.86zM5.41 20L4 18.59l7.72-7.72 1.47 1.35L5.41 20z\"/>\n",
              "  </svg>\n",
              "      </button>\n",
              "      \n",
              "  <style>\n",
              "    .colab-df-container {\n",
              "      display:flex;\n",
              "      flex-wrap:wrap;\n",
              "      gap: 12px;\n",
              "    }\n",
              "\n",
              "    .colab-df-convert {\n",
              "      background-color: #E8F0FE;\n",
              "      border: none;\n",
              "      border-radius: 50%;\n",
              "      cursor: pointer;\n",
              "      display: none;\n",
              "      fill: #1967D2;\n",
              "      height: 32px;\n",
              "      padding: 0 0 0 0;\n",
              "      width: 32px;\n",
              "    }\n",
              "\n",
              "    .colab-df-convert:hover {\n",
              "      background-color: #E2EBFA;\n",
              "      box-shadow: 0px 1px 2px rgba(60, 64, 67, 0.3), 0px 1px 3px 1px rgba(60, 64, 67, 0.15);\n",
              "      fill: #174EA6;\n",
              "    }\n",
              "\n",
              "    [theme=dark] .colab-df-convert {\n",
              "      background-color: #3B4455;\n",
              "      fill: #D2E3FC;\n",
              "    }\n",
              "\n",
              "    [theme=dark] .colab-df-convert:hover {\n",
              "      background-color: #434B5C;\n",
              "      box-shadow: 0px 1px 3px 1px rgba(0, 0, 0, 0.15);\n",
              "      filter: drop-shadow(0px 1px 2px rgba(0, 0, 0, 0.3));\n",
              "      fill: #FFFFFF;\n",
              "    }\n",
              "  </style>\n",
              "\n",
              "      <script>\n",
              "        const buttonEl =\n",
              "          document.querySelector('#df-7878efd8-0432-4db0-a54c-aeb96a657ed3 button.colab-df-convert');\n",
              "        buttonEl.style.display =\n",
              "          google.colab.kernel.accessAllowed ? 'block' : 'none';\n",
              "\n",
              "        async function convertToInteractive(key) {\n",
              "          const element = document.querySelector('#df-7878efd8-0432-4db0-a54c-aeb96a657ed3');\n",
              "          const dataTable =\n",
              "            await google.colab.kernel.invokeFunction('convertToInteractive',\n",
              "                                                     [key], {});\n",
              "          if (!dataTable) return;\n",
              "\n",
              "          const docLinkHtml = 'Like what you see? Visit the ' +\n",
              "            '<a target=\"_blank\" href=https://colab.research.google.com/notebooks/data_table.ipynb>data table notebook</a>'\n",
              "            + ' to learn more about interactive tables.';\n",
              "          element.innerHTML = '';\n",
              "          dataTable['output_type'] = 'display_data';\n",
              "          await google.colab.output.renderOutput(dataTable, element);\n",
              "          const docLink = document.createElement('div');\n",
              "          docLink.innerHTML = docLinkHtml;\n",
              "          element.appendChild(docLink);\n",
              "        }\n",
              "      </script>\n",
              "    </div>\n",
              "  </div>\n",
              "  "
            ]
          },
          "metadata": {},
          "execution_count": 577
        }
      ]
    }
  ]
}